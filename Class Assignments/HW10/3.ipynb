{
 "cells": [
  {
   "cell_type": "code",
   "execution_count": 2,
   "metadata": {},
   "outputs": [],
   "source": [
    "import numpy as np\n",
    "import matplotlib.pyplot as plt\n",
    "from numpy import linalg as LA\n",
    "\n",
    "cifar_dir = 'cifar-10-batches-py'\n",
    "\n",
    "def unpickle(file):\n",
    "    import pickle\n",
    "    with open(file, 'rb') as fo:\n",
    "        dict = pickle.load(fo, encoding='bytes')\n",
    "    return dict"
   ]
  },
  {
   "cell_type": "code",
   "execution_count": 5,
   "metadata": {},
   "outputs": [],
   "source": [
    "def load_cifar_data(negatives=False):\n",
    "    meta_data_dict = unpickle(cifar_dir + '/batches.meta')\n",
    "    cifar_labels = np.array(meta_data_dict[b'label_names'])\n",
    "    \n",
    "    train_data = None\n",
    "    train_filenames = []\n",
    "    train_labels = []\n",
    "    \n",
    "    for i in range(1, 6):\n",
    "        train_data_dict = unpickle(cifar_dir + '/data_batch_{}'.format(i))\n",
    "        train_filenames += train_data_dict[b'filenames']\n",
    "        train_labels += train_data_dict[b'labels']\n",
    "        if i == 1:\n",
    "            train_data = train_data_dict[b'data']\n",
    "        else:\n",
    "            train_data = np.vstack((train_data, train_data_dict[b'data']))\n",
    "    \n",
    "    train_data = train_data.reshape((len(train_data), 3, 32, 32))\n",
    "    if negatives:\n",
    "        train_data = train_data.transpose(0, 2, 3, 1).astype(np.float32)\n",
    "    else:\n",
    "        train_data = np.rollaxis(train_data, 1, 4)\n",
    "    train_filenames = np.array(train_filenames)\n",
    "    train_labels = np.array(train_labels)\n",
    "    \n",
    "    test_data_dict = unpickle(cifar_dir + '/test_batch')\n",
    "    test_data = test_data_dict[b'data']\n",
    "    test_filenames = test_data_dict[b'filenames']\n",
    "    test_labels = test_data_dict[b'labels']\n",
    "    \n",
    "    test_data = test_data.reshape((len(test_data), 3, 32, 32))\n",
    "    if negatives:\n",
    "        test_data = test_data.transpose(0, 2, 3, 1).astype(np.float32)\n",
    "    else:\n",
    "        test_data = np.rollaxis(test_data, 1, 4)\n",
    "    test_filenames = np.array(test_filenames)\n",
    "    test_labels = np.array(test_labels)\n",
    "    \n",
    "    return train_data, train_filenames, train_labels, test_data, test_filenames, test_labels, cifar_labels "
   ]
  },
  {
   "cell_type": "code",
   "execution_count": 6,
   "metadata": {},
   "outputs": [
    {
     "name": "stdout",
     "output_type": "stream",
     "text": [
      "Train data:  (50000, 3072)\n",
      "Train filenames:  (50000,)\n",
      "Train labels:  (50000,)\n",
      "Test data:  (10000, 3072)\n",
      "Test filenames:  (10000,)\n",
      "Test labels:  (10000,)\n",
      "Label names:  (10,)\n"
     ]
    }
   ],
   "source": [
    "train_data, train_filenames, train_labels, test_data, test_filenames, test_labels, label_names = load_cifar_data()\n",
    "train_data = np.reshape(train_data, (50000, 3072))\n",
    "test_data = np.reshape(test_data, (10000, 3072))\n",
    "print(\"Train data: \", train_data.shape)\n",
    "print(\"Train filenames: \", train_filenames.shape)\n",
    "print(\"Train labels: \", train_labels.shape)\n",
    "print(\"Test data: \", test_data.shape)\n",
    "print(\"Test filenames: \", test_filenames.shape)\n",
    "print(\"Test labels: \", test_labels.shape)\n",
    "print(\"Label names: \", label_names.shape)"
   ]
  },
  {
   "cell_type": "code",
   "execution_count": null,
   "metadata": {},
   "outputs": [],
   "source": []
  }
 ],
 "metadata": {
  "kernelspec": {
   "display_name": "Python 3",
   "language": "python",
   "name": "python3"
  },
  "language_info": {
   "codemirror_mode": {
    "name": "ipython",
    "version": 3
   },
   "file_extension": ".py",
   "mimetype": "text/x-python",
   "name": "python",
   "nbconvert_exporter": "python",
   "pygments_lexer": "ipython3",
   "version": "3.5.2"
  }
 },
 "nbformat": 4,
 "nbformat_minor": 2
}
