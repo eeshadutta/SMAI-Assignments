{
 "cells": [
  {
   "cell_type": "code",
   "execution_count": 1,
   "metadata": {},
   "outputs": [],
   "source": [
    "# SMAI PSET 23\n",
    "# Problem 2\n",
    "# Author: Sayar Ghosh Roy"
   ]
  },
  {
   "cell_type": "code",
   "execution_count": 2,
   "metadata": {},
   "outputs": [],
   "source": [
    "# K-means clustering with K = 1\n",
    "# All samples are lumped into one cluster, which defeats the purpose of clustering\n",
    "# K-means clustering with K = N, N being the number of samples\n",
    "# Now, every single sample is a cluster of its own, which is again pointless\n",
    "# It captures no additional structure of the data compared to the datapoints themselves\n",
    "# K = 1, convergence in a single iteration: Since there is only one central point and nothing to compare distances with,\n",
    "# the selection of the same centroid as initialization & lumping of everything into one cluster is trivial\n",
    "\n",
    "# K = N. Ideally, if the initialization of centroids is done is a sound manner, convergence should happen in one iteration only.\n",
    "# In cases of bad initialization, we may have some empty clusters, and reducting the k to (k - 1) for the next iteration is a way of handling it\n",
    "# Taking that into account, it should still converge after the 1st iteration, albeit with a reduced k value"
   ]
  },
  {
   "cell_type": "code",
   "execution_count": 3,
   "metadata": {},
   "outputs": [],
   "source": [
    "# Intuitive Measure of Usefulness of a particular k\n",
    "# Consider Objective J which is the sum of squared distances of samples to their closest cluster center\n",
    "# This J is called the inertia\n",
    "# Intuitively, inertia tells how far away the points within a cluster are.\n",
    "# Therefore, a small of inertia is aimed for.#\n",
    "# The range of inertia’s value starts from zero and goes up."
   ]
  },
  {
   "cell_type": "code",
   "execution_count": 4,
   "metadata": {},
   "outputs": [],
   "source": [
    "# Taking 10 samples in 2D\n",
    "import numpy as np\n",
    "x = np.random.randint(-20, 20, 10)\n",
    "y = np.random.randint(-20, 20, 10)"
   ]
  },
  {
   "cell_type": "code",
   "execution_count": 5,
   "metadata": {},
   "outputs": [
    {
     "name": "stdout",
     "output_type": "stream",
     "text": [
      "The datapoints: [(-5, 6), (-8, -1), (-14, -18), (-13, 1), (-4, 14), (4, -13), (-9, 6), (0, 0), (3, -16), (-13, 4)]\n"
     ]
    }
   ],
   "source": [
    "points = [ (x[i], y[i]) for i in range(10) ]\n",
    "print(\"The datapoints:\", points)"
   ]
  },
  {
   "cell_type": "code",
   "execution_count": 6,
   "metadata": {},
   "outputs": [
    {
     "name": "stdout",
     "output_type": "stream",
     "text": [
      "Labels: [0 0 1 0 0 1 0 0 1 0]\n",
      "Inertia: 512.4761904761905\n"
     ]
    }
   ],
   "source": [
    "# K-means clustering for 2 clusters\n",
    "from sklearn.cluster import KMeans\n",
    "cluster_maker = KMeans(n_clusters=2, n_init=10)\n",
    "model = cluster_maker.fit(points)\n",
    "print(\"Labels:\", model.labels_)\n",
    "print(\"Inertia:\", model.inertia_)"
   ]
  },
  {
   "cell_type": "code",
   "execution_count": 7,
   "metadata": {},
   "outputs": [
    {
     "data": {
      "text/plain": [
       "<Figure size 640x480 with 1 Axes>"
      ]
     },
     "metadata": {},
     "output_type": "display_data"
    }
   ],
   "source": [
    "import matplotlib.pyplot as plt\n",
    "plt.figure()\n",
    "plt.title('Datapoints sorted into 2 clusters')\n",
    "plt.xlabel('x')\n",
    "plt.ylabel('y')\n",
    "points_A = [ points[i] for i in range(10) if model.labels_[i] == 0]\n",
    "points_B = [ points[i] for i in range(10) if model.labels_[i] == 1]\n",
    "plt.scatter([i[0] for i in points_A], [i[1] for i in points_A], color = 'blue', label = 'Class A')\n",
    "plt.scatter([i[0] for i in points_B], [i[1] for i in points_B], color = 'green', label = 'Class B')\n",
    "plt.legend()\n",
    "plt.show()"
   ]
  },
  {
   "cell_type": "code",
   "execution_count": 8,
   "metadata": {},
   "outputs": [],
   "source": [
    "inertias = []\n",
    "for K in range(1, 11):\n",
    "    cluster_maker_K = KMeans(n_clusters=K, n_init=10)\n",
    "    model_K = cluster_maker_K.fit(points)\n",
    "    inertias.append(model_K.inertia_)"
   ]
  },
  {
   "cell_type": "code",
   "execution_count": 9,
   "metadata": {},
   "outputs": [
    {
     "data": {
      "image/png": "[encoded data removed]",
      "text/plain": [
       "<Figure size 432x288 with 1 Axes>"
      ]
     },
     "metadata": {
      "needs_background": "light"
     },
     "output_type": "display_data"
    }
   ],
   "source": [
    "plt.figure()\n",
    "plt.title('Inertia v/s K for K-means Clustering')\n",
    "plt.xlabel('K')\n",
    "plt.ylabel('Inertia')\n",
    "plt.plot([x for x in range(1, 11)], inertias, color = 'blue')\n",
    "plt.show()"
   ]
  },
  {
   "cell_type": "code",
   "execution_count": 10,
   "metadata": {},
   "outputs": [],
   "source": [
    "# Obviously, as K increases, inertia decreases\n",
    "# A good rule of thumb to select a value of K\n",
    "# which is the elbow point in the inertia graph\n",
    "# After the elbow point, the change in the value of inertia\n",
    "# is not really very significant\n",
    "# With randomized datapoints, typically we get elbow points\n",
    "# at K = 2 or K = 3, mostly at K = 2"
   ]
  },
  {
   "cell_type": "code",
   "execution_count": 11,
   "metadata": {},
   "outputs": [],
   "source": [
    "# Thank You ^_^"
   ]
  }
 ],
 "metadata": {
  "kernelspec": {
   "display_name": "Python 3",
   "language": "python",
   "name": "python3"
  },
  "language_info": {
   "codemirror_mode": {
    "name": "ipython",
    "version": 3
   },
   "file_extension": ".py",
   "mimetype": "text/x-python",
   "name": "python",
   "nbconvert_exporter": "python",
   "pygments_lexer": "ipython3",
   "version": "3.6.8"
  }
 },
 "nbformat": 4,
 "nbformat_minor": 2
}
