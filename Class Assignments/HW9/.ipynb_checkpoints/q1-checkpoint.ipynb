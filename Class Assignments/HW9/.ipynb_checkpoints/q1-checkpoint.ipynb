{
 "cells": [
  {
   "cell_type": "markdown",
   "metadata": {},
   "source": [
    "Huber Loss"
   ]
  },
  {
   "cell_type": "code",
   "execution_count": 1,
   "metadata": {},
   "outputs": [],
   "source": [
    "import numpy as np\n",
    "import matplotlib.pyplot as plt"
   ]
  },
  {
   "cell_type": "code",
   "execution_count": 2,
   "metadata": {
    "scrolled": false
   },
   "outputs": [
    {
     "data": {
      "image/png": "[encoded data removed]",
      "text/plain": [
       "<Figure size 432x288 with 1 Axes>"
      ]
     },
     "metadata": {
      "needs_background": "light"
     },
     "output_type": "display_data"
    }
   ],
   "source": [
    "num_iter = 1000\n",
    "data = np.linspace(-3, 1, num_iter)\n",
    "noise = np.random.normal(0, 1, data.shape)\n",
    "data = data + noise\n",
    "x = np.arange(1, num_iter + 1)\n",
    "plt.scatter(x, data)\n",
    "plt.title(\"Data\")\n",
    "plt.show()"
   ]
  },
  {
   "cell_type": "code",
   "execution_count": 3,
   "metadata": {},
   "outputs": [],
   "source": [
    "def calculate_huber_loss(y,delta,theta0,theta1):\n",
    "    loss=0\n",
    "    for i in range(0,num_iter):\n",
    "        if abs(y[i] - theta0 - theta1*x[i]) <= delta:\n",
    "            loss+=((y[i]-theta1*x[i]-theta0)*(y[i]-theta1*x[i]-theta0))/2\n",
    "        else:\n",
    "            loss+=delta*(y[i]-theta1*x[i]-theta0)-(delta*delta)/2\n",
    "    return loss"
   ]
  },
  {
   "cell_type": "code",
   "execution_count": 4,
   "metadata": {},
   "outputs": [],
   "source": [
    "def update_huber_loss(y,delta,theta0,theta1,rate):\n",
    "    f1=0\n",
    "    f2=0\n",
    "    for i in range(0,num_iter):\n",
    "        if abs(y[i]-theta1*x[i]-theta0) <= delta :\n",
    "            f1+=-(y[i]-theta1*x[i]-theta0)\n",
    "            f2+=-(y[i]-theta1*x[i]-theta0)*x[i]\n",
    "        else:\n",
    "            if y[i]-theta1*x[i]-theta0 >= 0:\n",
    "                f1+=-delta\n",
    "                f2+=-delta*x[i]\n",
    "            else:\n",
    "                sum1+=delta\n",
    "                sum2+=delta*x[i]\n",
    "    theta1=theta1-rate*sum1\n",
    "    theta2=theta2-rate*sum2\n",
    "    return theta1,theta2"
   ]
  },
  {
   "cell_type": "code",
   "execution_count": 5,
   "metadata": {},
   "outputs": [],
   "source": [
    "# log cosh loss\n",
    "# import sympy\n",
    "# from sympy.utilities.lambdify import lambdify, implemented_function\n",
    "# lambdify(1000, log(cosh(1000)), 'mpmath')\n",
    "def calculate_logcosh(a,theta1,theta2):\n",
    "     return np.sum(np.log(np.cosh(theta1+theta2*x - a)))\n",
    "    "
   ]
  },
  {
   "cell_type": "code",
   "execution_count": 6,
   "metadata": {},
   "outputs": [],
   "source": [
    "def update_logcosh(a,theta1,theta2,rate):\n",
    "    sum1=0;\n",
    "    sum2=0;\n",
    "    for i in range(0,1000):\n",
    "        sum1+=np.tanh(-a[i]+theta2*x[i]+theta1);\n",
    "        sum2+=np.tanh(-a[i]+theta2*x[i]+theta1)*x[i];\n",
    "    theta1=theta1-rate*sum1\n",
    "    theta2=theta2-rate*sum2\n",
    "    return theta1,theta2"
   ]
  },
  {
   "cell_type": "code",
   "execution_count": 7,
   "metadata": {},
   "outputs": [],
   "source": [
    "def calculate_quantile_loss(a,gama,theta1,theta2):\n",
    "    loss=0;\n",
    "    for i in range(0,1000):\n",
    "        if(a[i]<theta1+x[i]*theta2):\n",
    "            loss+=(gama-1)*(theta1+x[i]*theta2-a[i]);\n",
    "        else:\n",
    "            loss+=gama*(a[i]-theta1-x[i]*theta2)\n",
    "    return loss"
   ]
  },
  {
   "cell_type": "code",
   "execution_count": 8,
   "metadata": {},
   "outputs": [],
   "source": [
    "def update_quantile_loss(a,gama,theta1,theta2,rate):\n",
    "    sum1=0;\n",
    "    sum2=0;\n",
    "    for i in range(0,1000):\n",
    "        if(a[i]<theta1+x[i]*theta2):\n",
    "            sum1+=(gama-1)\n",
    "            sum2+=(gama-1)*x[i];\n",
    "        else:\n",
    "            sum1+=-gama;\n",
    "            sum2+=-gama*x[i];\n",
    "    theta1=theta1-rate*sum1\n",
    "    theta2=theta2-rate*sum2\n",
    "    return theta1,theta2"
   ]
  },
  {
   "cell_type": "code",
   "execution_count": 13,
   "metadata": {},
   "outputs": [],
   "source": [
    "def gradiant_decent(y,label):\n",
    "    i=0;\n",
    "    delta=0.9\n",
    "    theta0=1\n",
    "    theta1=1\n",
    "    rate=8*1e-8\n",
    "    gamma=2.04\n",
    "    loss=np.zeros(num_iter)\n",
    "    slope=np.zeros(num_iter)\n",
    "    while i < num_iter:\n",
    "        if(label=='huber'):\n",
    "#             loss[i]=abs(calculate_huber_loss(a,delta,the1,the2))\n",
    "            for i in range(0,num_iter):\n",
    "                if abs(y[i] - theta0 - theta1*x[i]) <= delta:\n",
    "                    loss[i] += ((y[i]-theta1*x[i]-theta0)*(y[i]-theta1*x[i]-theta0))/2\n",
    "                else:\n",
    "                    loss[i] += delta*(y[i]-theta1*x[i]-theta0)-(delta*delta)/2\n",
    "            f1=0\n",
    "            f2=0\n",
    "            for i in range(0,num_iter):\n",
    "                if abs(y[i]-theta1*x[i]-theta0) <= delta :\n",
    "                    f1 += -(y[i]-theta1*x[i]-theta0)\n",
    "                    f2 += -(y[i]-theta1*x[i]-theta0)*x[i]\n",
    "                else:\n",
    "                    if y[i]-theta1*x[i]-theta0 >= 0:\n",
    "                        f1 += -delta\n",
    "                        f2 += -delta*x[i]\n",
    "                    else:\n",
    "                        f1 += delta\n",
    "                        f2 += delta*x[i]\n",
    "            theta0 = theta0-rate*f1\n",
    "            theta1 = theta1-rate*f2\n",
    "#             the1,the2=update_huber_loss(a,delta,the1,the2,rate)\n",
    "        if(label=='logcosh'):\n",
    "#             loss[i]=abs(calculate_logcosh(a,the1,the2));\n",
    "            loss[i] = np.sum(np.log(np.cosh(theta0+theta1*x - a)))\n",
    "            f1=0;\n",
    "            f2=0;\n",
    "            for i in range(0,1000):\n",
    "                f1 += np.tanh(-y[i]+theta1*x[i]+theta0);\n",
    "                f2 += np.tanh(-y[i]+theta1*x[i]+theta0)*x[i];\n",
    "            theta0 = theta0-rate*f1\n",
    "            theta1 = theta1-rate*f2\n",
    "#             the1,the2=update_logcosh(a,the1,the2,rate)\n",
    "        if(label=='quantile'):\n",
    "#             loss[i]=abs(calculate_quantile_loss(a,gama,the1,the2))\n",
    "#             the1,the2=update_quantile_loss(a,gama,the1,the2,rate)\n",
    "            for i in range(0,1000):\n",
    "                if(y[i] < theta0+x[i]*theta1):\n",
    "                    loss[i] += (gamma-1)*(theta0+x[i]*theta1-y[i]);\n",
    "                else:\n",
    "                    loss[i] += gamma*(y[i]-theta0-x[i]*theta1)\n",
    "            f1 = 0;\n",
    "            f2 = 0;\n",
    "            for i in range(0,1000):\n",
    "                if(y[i] < theta0+x[i]*theta1):\n",
    "                    f1 += (gamma-1)\n",
    "                    f2 += (gamma-1)*x[i];\n",
    "                else:\n",
    "                    f1 += -gamma;\n",
    "                    f2 += -gamma*x[i];\n",
    "            theta0 = theta0-rate*f1\n",
    "            theta1 = theta1-rate*f2\n",
    "        slope[i]=-theta1/theta0\n",
    "        i+=1\n",
    "    x_new = np.arange(1,num_iter + 1)\n",
    "    \n",
    "    plt.scatter(x_new,loss)\n",
    "    plt.xlabel('Loss')\n",
    "    plt.ylabel('Iterations')\n",
    "    plt.title(label)\n",
    "    plt.show()\n",
    "    \n",
    "    plt.scatter(x_new,slope)\n",
    "    plt.xlabel('Iterations')\n",
    "    plt.ylabel('Slope')\n",
    "    plt.title(label)\n",
    "    plt.show()"
   ]
  },
  {
   "cell_type": "code",
   "execution_count": 14,
   "metadata": {},
   "outputs": [
    {
     "ename": "NameError",
     "evalue": "name 'iterations' is not defined",
     "output_type": "error",
     "traceback": [
      "\u001b[0;31m---------------------------------------------------------------------------\u001b[0m",
      "\u001b[0;31mNameError\u001b[0m                                 Traceback (most recent call last)",
      "\u001b[0;32m<ipython-input-14-9a86910cfa39>\u001b[0m in \u001b[0;36m<module>\u001b[0;34m\u001b[0m\n\u001b[0;32m----> 1\u001b[0;31m \u001b[0mgradiant_decent\u001b[0m\u001b[0;34m(\u001b[0m\u001b[0mdata\u001b[0m\u001b[0;34m,\u001b[0m\u001b[0;34m'huber'\u001b[0m\u001b[0;34m)\u001b[0m\u001b[0;34m\u001b[0m\u001b[0m\n\u001b[0m\u001b[1;32m      2\u001b[0m \u001b[0mgradient_decent\u001b[0m\u001b[0;34m(\u001b[0m\u001b[0mdata\u001b[0m\u001b[0;34m,\u001b[0m\u001b[0;34m'logcosh'\u001b[0m\u001b[0;34m)\u001b[0m\u001b[0;34m\u001b[0m\u001b[0m\n\u001b[1;32m      3\u001b[0m \u001b[0mgradiant_decent\u001b[0m\u001b[0;34m(\u001b[0m\u001b[0mdata\u001b[0m\u001b[0;34m,\u001b[0m\u001b[0;34m'quantile'\u001b[0m\u001b[0;34m)\u001b[0m\u001b[0;34m\u001b[0m\u001b[0m\n",
      "\u001b[0;32m<ipython-input-13-7246884ee443>\u001b[0m in \u001b[0;36mgradiant_decent\u001b[0;34m(y, label)\u001b[0m\n\u001b[1;32m      6\u001b[0m     \u001b[0mrate\u001b[0m\u001b[0;34m=\u001b[0m\u001b[0;36m8\u001b[0m\u001b[0;34m*\u001b[0m\u001b[0;36m1e-8\u001b[0m\u001b[0;34m\u001b[0m\u001b[0m\n\u001b[1;32m      7\u001b[0m     \u001b[0mgamma\u001b[0m\u001b[0;34m=\u001b[0m\u001b[0;36m2.04\u001b[0m\u001b[0;34m\u001b[0m\u001b[0m\n\u001b[0;32m----> 8\u001b[0;31m     \u001b[0mloss\u001b[0m\u001b[0;34m=\u001b[0m\u001b[0mnp\u001b[0m\u001b[0;34m.\u001b[0m\u001b[0mzeros\u001b[0m\u001b[0;34m(\u001b[0m\u001b[0miterations\u001b[0m\u001b[0;34m)\u001b[0m\u001b[0;34m\u001b[0m\u001b[0m\n\u001b[0m\u001b[1;32m      9\u001b[0m     \u001b[0mslope\u001b[0m\u001b[0;34m=\u001b[0m\u001b[0mnp\u001b[0m\u001b[0;34m.\u001b[0m\u001b[0mzeros\u001b[0m\u001b[0;34m(\u001b[0m\u001b[0miterations\u001b[0m\u001b[0;34m)\u001b[0m\u001b[0;34m\u001b[0m\u001b[0m\n\u001b[1;32m     10\u001b[0m     \u001b[0;32mwhile\u001b[0m \u001b[0mi\u001b[0m \u001b[0;34m<\u001b[0m \u001b[0mnum_iter\u001b[0m\u001b[0;34m:\u001b[0m\u001b[0;34m\u001b[0m\u001b[0m\n",
      "\u001b[0;31mNameError\u001b[0m: name 'iterations' is not defined"
     ]
    }
   ],
   "source": [
    "gradiant_decent(data,'huber')\n",
    "gradient_decent(data,'logcosh')\n",
    "gradiant_decent(data,'quantile')"
   ]
  },
  {
   "cell_type": "code",
   "execution_count": null,
   "metadata": {},
   "outputs": [],
   "source": []
  }
 ],
 "metadata": {
  "kernelspec": {
   "display_name": "Python 3",
   "language": "python",
   "name": "python3"
  },
  "language_info": {
   "codemirror_mode": {
    "name": "ipython",
    "version": 3
   },
   "file_extension": ".py",
   "mimetype": "text/x-python",
   "name": "python",
   "nbconvert_exporter": "python",
   "pygments_lexer": "ipython3",
   "version": "3.5.2"
  }
 },
 "nbformat": 4,
 "nbformat_minor": 2
}
