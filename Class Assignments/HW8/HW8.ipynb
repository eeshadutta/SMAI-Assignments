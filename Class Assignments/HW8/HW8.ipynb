{
 "cells": [
  {
   "cell_type": "code",
   "execution_count": 23,
   "metadata": {},
   "outputs": [
    {
     "name": "stdout",
     "output_type": "stream",
     "text": [
      "[2. 1.]\n",
      "[[3.33333333 0.66666667]\n",
      " [0.66666667 1.33333333]]\n",
      "[1.13148291 3.53518376]\n",
      "[[ 0.28978415 -0.95709203]\n",
      " [-0.95709203 -0.28978415]]\n"
     ]
    }
   ],
   "source": [
    "import numpy as np\n",
    "from numpy import linalg as LA\n",
    "\n",
    "x = np.array([[0, 0], [3, 0], [1, 2], [4, 2]])\n",
    "xm = np.mean(x, axis=0)\n",
    "xc = np.cov(x, rowvar=False)\n",
    "eig_vals, eig_vecs = LA.eigh(xc)\n",
    "print(xm)\n",
    "print(xc)\n",
    "print(eig_vals)\n",
    "print(eig_vecs)"
   ]
  },
  {
   "cell_type": "code",
   "execution_count": null,
   "metadata": {},
   "outputs": [],
   "source": []
  }
 ],
 "metadata": {
  "kernelspec": {
   "display_name": "Python 3",
   "language": "python",
   "name": "python3"
  },
  "language_info": {
   "codemirror_mode": {
    "name": "ipython",
    "version": 3
   },
   "file_extension": ".py",
   "mimetype": "text/x-python",
   "name": "python",
   "nbconvert_exporter": "python",
   "pygments_lexer": "ipython3",
   "version": "3.5.2"
  }
 },
 "nbformat": 4,
 "nbformat_minor": 2
}
