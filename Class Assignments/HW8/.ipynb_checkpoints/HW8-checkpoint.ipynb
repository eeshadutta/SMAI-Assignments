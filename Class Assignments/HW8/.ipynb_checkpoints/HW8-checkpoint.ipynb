{
 "cells": [
  {
   "cell_type": "code",
   "execution_count": 21,
   "metadata": {},
   "outputs": [
    {
     "name": "stdout",
     "output_type": "stream",
     "text": [
      "[3.5 2. ]\n",
      "[[9.66666667 2.66666667]\n",
      " [2.66666667 5.33333333]]\n",
      "[ 4.06407865 10.93592135]\n",
      "[[ 0.42977167 -0.9029376 ]\n",
      " [-0.9029376  -0.42977167]]\n"
     ]
    }
   ],
   "source": [
    "import numpy as np\n",
    "from numpy import linalg as LA\n",
    "\n",
    "x = np.array([[0, 0], [3, 0], [1, 2], [4, 2]])\n",
    "xm = np.mean(x, axis=0)\n",
    "xc = np.cov(x, rowvar=False)\n",
    "eig_vals, eig_vecs = LA.eigh(xc)\n",
    "print(xm)\n",
    "print(xc)\n",
    "print(eig_vals)\n",
    "print(eig_vecs)"
   ]
  },
  {
   "cell_type": "code",
   "execution_count": null,
   "metadata": {},
   "outputs": [],
   "source": []
  }
 ],
 "metadata": {
  "kernelspec": {
   "display_name": "Python 3",
   "language": "python",
   "name": "python3"
  },
  "language_info": {
   "codemirror_mode": {
    "name": "ipython",
    "version": 3
   },
   "file_extension": ".py",
   "mimetype": "text/x-python",
   "name": "python",
   "nbconvert_exporter": "python",
   "pygments_lexer": "ipython3",
   "version": "3.5.2"
  }
 },
 "nbformat": 4,
 "nbformat_minor": 2
}
