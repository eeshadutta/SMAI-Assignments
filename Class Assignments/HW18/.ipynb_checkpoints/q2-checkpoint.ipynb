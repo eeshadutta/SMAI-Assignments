{
 "cells": [
  {
   "cell_type": "code",
   "execution_count": 1,
   "metadata": {},
   "outputs": [],
   "source": [
    "import matplotlib.pyplot as plt \n",
    "import numpy as np"
   ]
  },
  {
   "cell_type": "code",
   "execution_count": 2,
   "metadata": {},
   "outputs": [
    {
     "name": "stdout",
     "output_type": "stream",
     "text": [
      "(160, 2)\n",
      "(40, 2)\n",
      "(160,)\n",
      "(40,)\n"
     ]
    }
   ],
   "source": [
    "A_data=np.random.multivariate_normal([0,0],[[1,0],[0,1]],100)\n",
    "A_label=np.ones(100)\n",
    "B_data=np.random.multivariate_normal([0,0],[[1,0],[0,1]],100)\n",
    "B_label=-np.ones(100)\n",
    "train_data=np.concatenate((A_data[0:80,:],B_data[0:80,:]),axis=0)\n",
    "train_label=np.concatenate((A_label[0:80],B_label[0:80]))\n",
    "test_data=np.concatenate((A_data[80:100,:],B_data[80:100,:]),axis=0)\n",
    "test_label=np.concatenate((A_label[80:100],B_label[80:100]))\n",
    "print(train_data.shape)\n",
    "print(test_data.shape)\n",
    "print(train_label.shape)\n",
    "print(test_label.shape)"
   ]
  },
  {
   "cell_type": "code",
   "execution_count": 3,
   "metadata": {},
   "outputs": [],
   "source": [
    "def sig(z):\n",
    "    return 1/(1+np.exp(-z))"
   ]
  },
  {
   "cell_type": "code",
   "execution_count": 4,
   "metadata": {},
   "outputs": [],
   "source": [
    "#withoutbias\n",
    "def gd(n,lr):\n",
    "    w1=np.random.uniform(0,1,size=(2,2))\n",
    "    w2=np.random.uniform(0,1,2)\n",
    "    j=0\n",
    "    L=[]\n",
    "    while j<=n:\n",
    "        l1=np.tanh(train_data@w1)\n",
    "        Y=sig(l1@w2.T)\n",
    "        L.append(np.sum((train_label-Y)**2)/160)\n",
    "        L2=0\n",
    "        for i in range(160):\n",
    "            L2=L2+(train_label[i]-Y[i])*Y[i]*(1-Y[i]) * l1[i,:]\n",
    "        w2=w2+lr*L2/80\n",
    "        L1=0\n",
    "        for i in range(160):\n",
    "            T1=w2[0]*(1-l1[i,0]**2)\n",
    "            T2=w2[1]*(1-l1[i,1]**2)\n",
    "            Tf=np.array((train_data[i,:]*T1,train_data[i,:]*T2)).T\n",
    "            L1=L1+(train_label[i]-Y[i])*Y[i]*(1-Y[i]) * Tf\n",
    "        w1=w1+lr*L1/80\n",
    "        j=j+1\n",
    "    return (L,w1,w2)"
   ]
  },
  {
   "cell_type": "code",
   "execution_count": 5,
   "metadata": {},
   "outputs": [],
   "source": [
    "#withbias\n",
    "def gd1(n,lr):\n",
    "    w1=np.random.uniform(0,1,size=(3,2))\n",
    "    w2=np.random.uniform(0,1,3)\n",
    "    j=0\n",
    "    L=[]\n",
    "    while j<=n:\n",
    "        l1=np.vstack((np.tanh(t_data@w1).T,np.ones(160))).T\n",
    "        Y=sig(l1@w2.T)\n",
    "        L.append(np.sum((train_label-Y)**2)/160)\n",
    "        L2=0\n",
    "        for i in range(160):\n",
    "            L2=L2+(train_label[i]-Y[i])*Y[i]*(1-Y[i]) * l1[i,:]\n",
    "        w2=w2+lr*L2/80\n",
    "        L1=0\n",
    "        for i in range(160):\n",
    "            T1=w2[0]*(1-l1[i,0]**2)\n",
    "            T2=w2[1]*(1-l1[i,1]**2)\n",
    "            Tf=np.vstack((np.array((train_data[i,:]*T1,train_data[i,:]*T2)).T,np.ones(2)))\n",
    "            L1=L1+(train_label[i]-Y[i])*Y[i]*(1-Y[i]) * Tf\n",
    "        w1=w1+lr*L1/80\n",
    "        j=j+1\n",
    "    return (L,w1,w2)"
   ]
  },
  {
   "cell_type": "code",
   "execution_count": 6,
   "metadata": {},
   "outputs": [],
   "source": [
    "t_data=np.array([train_data[:,0],train_data[:,1],np.ones(160)]).T\n",
    "outb=gd1(100,1)\n",
    "out=gd(100,1)"
   ]
  },
  {
   "cell_type": "code",
   "execution_count": 7,
   "metadata": {},
   "outputs": [
    {
     "data": {
      "text/plain": [
       "MLPClassifier(activation='relu', alpha=0.0001, batch_size='auto', beta_1=0.9,\n",
       "              beta_2=0.999, early_stopping=False, epsilon=1e-08,\n",
       "              hidden_layer_sizes=(2,), learning_rate='constant',\n",
       "              learning_rate_init=1, max_iter=100, momentum=0.9,\n",
       "              n_iter_no_change=10, nesterovs_momentum=True, power_t=0.5,\n",
       "              random_state=None, shuffle=True, solver='adam', tol=0.0001,\n",
       "              validation_fraction=0.1, verbose=False, warm_start=False)"
      ]
     },
     "execution_count": 7,
     "metadata": {},
     "output_type": "execute_result"
    }
   ],
   "source": [
    "l1=np.tanh(test_data@out[1])\n",
    "Y1=sig(l1@out[2].T)\n",
    "L1=np.sum((test_label-Y1)**2/40)\n",
    "te_data=np.array([test_data[:,0],test_data[:,1],np.ones(40)]).T\n",
    "l2=np.vstack((np.tanh(te_data@outb[1]).T,np.ones(40))).T\n",
    "Y2=sig(l2@outb[2].T)\n",
    "L2=np.sum((test_label-Y2)**2/40)\n",
    "from sklearn.neural_network import MLPClassifier\n",
    "clf=MLPClassifier(hidden_layer_sizes=(2,),max_iter=100,learning_rate_init=1)\n",
    "clf.fit(train_data,train_label)"
   ]
  },
  {
   "cell_type": "code",
   "execution_count": 8,
   "metadata": {},
   "outputs": [
    {
     "name": "stdout",
     "output_type": "stream",
     "text": [
      "MSE Loss of Test data for without bias: 1.2428762989842719\n",
      "MSE Loss of Test data for with bias: 0.9965577398962779\n"
     ]
    }
   ],
   "source": [
    "print('MSE Loss of Test data for without bias:',L1)\n",
    "print('MSE Loss of Test data for with bias:',L2)"
   ]
  },
  {
   "cell_type": "code",
   "execution_count": 9,
   "metadata": {},
   "outputs": [
    {
     "data": {
      "image/png": "[encoded data removed]",
      "text/plain": [
       "<Figure size 432x288 with 1 Axes>"
      ]
     },
     "metadata": {
      "needs_background": "light"
     },
     "output_type": "display_data"
    }
   ],
   "source": [
    "plt.plot(np.array(out[0]),label='Without Bias')\n",
    "plt.plot(np.array(outb[0]),label='With Bias')\n",
    "plt.plot(clf.loss_curve_,label='Inbuilt')\n",
    "plt.legend()\n",
    "plt.show()"
   ]
  },
  {
   "cell_type": "code",
   "execution_count": null,
   "metadata": {},
   "outputs": [],
   "source": []
  }
 ],
 "metadata": {
  "kernelspec": {
   "display_name": "Python 3",
   "language": "python",
   "name": "python3"
  },
  "language_info": {
   "codemirror_mode": {
    "name": "ipython",
    "version": 3
   },
   "file_extension": ".py",
   "mimetype": "text/x-python",
   "name": "python",
   "nbconvert_exporter": "python",
   "pygments_lexer": "ipython3",
   "version": "3.6.8"
  }
 },
 "nbformat": 4,
 "nbformat_minor": 2
}
