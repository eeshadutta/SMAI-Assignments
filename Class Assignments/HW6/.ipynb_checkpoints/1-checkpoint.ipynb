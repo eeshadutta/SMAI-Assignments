{
 "cells": [
  {
   "cell_type": "code",
   "execution_count": 1,
   "metadata": {},
   "outputs": [],
   "source": [
    "import numpy as np\n",
    "import matplotlib.pyplot as plt\n",
    "from random import randrange\n",
    "from math import sin"
   ]
  },
  {
   "cell_type": "code",
   "execution_count": 2,
   "metadata": {},
   "outputs": [],
   "source": [
    "def datasplit(data, split=0.60):\n",
    "    train = list()\n",
    "    train_size = split * len(data)\n",
    "    test = list(data)\n",
    "    while len(train) < train_size:\n",
    "        index = randrange(len(test))\n",
    "        train.append(test.pop(index))\n",
    "    return train, test"
   ]
  },
  {
   "cell_type": "code",
   "execution_count": 3,
   "metadata": {},
   "outputs": [],
   "source": [
    "def cvsplit(data, folds=3):\n",
    "    data_split = list()\n",
    "    data_copy = list(data)\n",
    "    fold_size = int(len(data) / folds)\n",
    "    for i in range(folds):\n",
    "        fold = list()\n",
    "        while len(fold) < fold_size:\n",
    "            index = randrange(len(data_copy))\n",
    "            fold.append(data_copy.pop(index))\n",
    "        data_split.append(fold)\n",
    "        \n",
    "    return data_split"
   ]
  },
  {
   "cell_type": "code",
   "execution_count": null,
   "metadata": {},
   "outputs": [],
   "source": [
    "mu=0\n",
    "sigma=1\n",
    "\n",
    "data_small = np.arange(0,200,1)\n",
    "data_large = np.arange(0,20000,1)\n",
    "\n",
    "noise_small = np.random.normal(mu,sigma,200)\n",
    "noise_large = np.random.normal(mu,sigma,20000)\n",
    "\n",
    "y_small = [sin(data_small[i])+noise_small[i] for i in range(0,200,1)]\n",
    "y_large = [sin(data_large[i])+noise_large[i] for i in range(0,20000,1)]\n",
    "\n",
    "# train_small, test_small = datasplit(data_small)\n",
    "# train_large, test_large = datasplit(data_large)\n",
    "\n",
    "# print(train_small)\n",
    "# print(test_small)\n",
    "\n",
    "kmax = 200\n",
    "means_small = []\n",
    "vars_small = []\n",
    "for i in range(1,kmax+1,1):\n",
    "    train_small, test_small = datasplit(data_small)\n",
    "    means = []\n",
    "    var = []\n",
    "    for fold in cvsplit(train_small,i):\n",
    "        means.append(np.mean(train_small))\n",
    "        var.append(np.var(train_small))\n",
    "    means_small.append((i,np.mean(means)))\n",
    "    vars_small.append(np.var(var))\n",
    "    \n",
    "kmax = 20000\n",
    "means_large = []\n",
    "vars_large = []\n",
    "for i in range(1,kmax+1,1):\n",
    "    train_large, test_large = datasplit(data_large)\n",
    "    means = []\n",
    "    var = []\n",
    "    for fold in cvsplit(train_large,i):\n",
    "        means.append(np.mean(train_large))\n",
    "        var.append(np.var(train_large))\n",
    "    means_large.append((i,np.mean(means)))\n",
    "    vars_large.append(np.var(var))\n",
    "\n",
    "ksmall = [ptr[0] for ptr in means_small]\n",
    "klarge = [ptr[0] for ptr in means_large]\n",
    "\n",
    "means_small_plot = [ptr[1] for ptr in means_small]\n",
    "means_large_plot = [ptr[1] for ptr in means_large]\n",
    "\n",
    "vars_small_plot = [ptr[0] for ptr in vars_small]\n",
    "vars_large_plot = [ptr[0] for ptr in vars_large]\n",
    "\n",
    "fig1 = plt.figure(figsize = [30,30], dpi = 40)\n",
    "plt.title('Small order of k')\n",
    "ax11 = fig1.add_subplot(121)\n",
    "ax11.plot(ksmall, means_small_plot, color = 'blue', label = 'means')\n",
    "ax12 = fig1.add_subplot(122)\n",
    "ax11.plot(ksmall, vars_small_plot, color = 'blue', label = 'variances')\n",
    "\n",
    "fig2 = plt.figure(figsize = [30,30], dpi = 40)\n",
    "plt.title('Large order of k')\n",
    "ax21 = fig2.add_subplot(121)\n",
    "ax21.plot(klarge, means_large_plot, color = 'blue', label = 'means')\n",
    "ax22 = fig2.add_subplot(122)\n",
    "ax21.plot(klarge, vars_large_plot, color = 'blue', label = 'variances')"
   ]
  },
  {
   "cell_type": "code",
   "execution_count": null,
   "metadata": {},
   "outputs": [],
   "source": []
  },
  {
   "cell_type": "code",
   "execution_count": null,
   "metadata": {},
   "outputs": [],
   "source": []
  }
 ],
 "metadata": {
  "kernelspec": {
   "display_name": "Python 3",
   "language": "python",
   "name": "python3"
  },
  "language_info": {
   "codemirror_mode": {
    "name": "ipython",
    "version": 3
   },
   "file_extension": ".py",
   "mimetype": "text/x-python",
   "name": "python",
   "nbconvert_exporter": "python",
   "pygments_lexer": "ipython3",
   "version": "3.5.2"
  }
 },
 "nbformat": 4,
 "nbformat_minor": 2
}
