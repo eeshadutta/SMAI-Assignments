{
 "cells": [
  {
   "cell_type": "markdown",
   "metadata": {
    "editable": false
   },
   "source": [
    "# Assignment 1\n",
    "This jupyter notebook is meant to be used in conjunction with the full questions in the assignment pdf.\n",
    "\n",
    "## Instructions\n",
    "- Write your code and analyses in the indicated cells.\n",
    "- Ensure that this notebook runs without errors when the cells are run in sequence.\n",
    "- Do not attempt to change the contents of the other cells.\n",
    "\n",
    "## Submission\n",
    "- Ensure that this notebook runs without errors when the cells are run in sequence.\n",
    "- Rename the notebook to `<roll_number>.ipynb` and submit ONLY the notebook file on moodle."
   ]
  },
  {
   "cell_type": "markdown",
   "metadata": {
    "editable": false
   },
   "source": [
    "### Environment setup\n",
    "\n",
    "The following code reads the train and test data (provided along with this template) and outputs the data and labels as numpy arrays. Use these variables in your code.\n",
    "\n",
    "---\n",
    "#### Note on conventions\n",
    "In mathematical notation, the convention is tha data matrices are column-indexed, which means that a input data $x$ has shape $[d, n]$, where $d$ is the number of dimensions and $n$ is the number of data points, respectively.\n",
    "\n",
    "Programming languages have a slightly different convention. Data matrices are of shape $[n, d]$. This has the benefit of being able to access the ith data point as a simple `data[i]`.\n",
    "\n",
    "What this means is that you need to be careful about your handling of matrix dimensions. For example, while the covariance matrix (of shape $[d,d]$) for input data $x$ is calculated as $(x-u)(x-u)^T$, while programming you would do $(x-u)^T(x-u)$ to get the correct output shapes."
   ]
  },
  {
   "cell_type": "code",
   "execution_count": 2,
   "metadata": {
    "editable": false,
    "scrolled": true
   },
   "outputs": [
    {
     "name": "stdout",
     "output_type": "stream",
     "text": [
      "(6000, 784) (1000, 784)\n",
      "(6000,) (1000,)\n"
     ]
    }
   ],
   "source": [
    "from __future__ import print_function\n",
    "\n",
    "import numpy as np\n",
    "import matplotlib.pyplot as plt\n",
    "\n",
    "def read_data(filename):\n",
    "    with open(filename, 'r') as f:\n",
    "        lines = f.readlines()\n",
    "    \n",
    "    num_points = len(lines)\n",
    "    dim_points = 28 * 28\n",
    "    data = np.empty((num_points, dim_points))\n",
    "    labels = np.empty(num_points)\n",
    "    \n",
    "    for ind, line in enumerate(lines):\n",
    "        num = line.split(',')\n",
    "        labels[ind] = int(num[0])\n",
    "        data[ind] = [ int(x) for x in num[1:] ]\n",
    "        \n",
    "    return (data, labels)\n",
    "\n",
    "train_data, train_labels = read_data(\"sample_train.csv\")\n",
    "test_data, test_labels = read_data(\"sample_test.csv\")\n",
    "print(train_data.shape, test_data.shape)\n",
    "print(train_labels.shape, test_labels.shape)"
   ]
  },
  {
   "cell_type": "markdown",
   "metadata": {
    "editable": false
   },
   "source": [
    "# Questions\n",
    "---\n",
    "## 1.3.1 Representation\n",
    "The next code cells, when run, should plot the eigen value spectrum of the covariance matrices corresponding to the mentioned samples. Normalize the eigen value spectrum and only show the first 100 values."
   ]
  },
  {
   "cell_type": "code",
   "execution_count": 13,
   "metadata": {},
   "outputs": [
    {
     "data": {
      "image/png": "[encoded data removed]",
      "text/plain": [
       "<Figure size 432x288 with 1 Axes>"
      ]
     },
     "metadata": {
      "needs_background": "light"
     },
     "output_type": "display_data"
    }
   ],
   "source": [
    "# Samples corresponding to the last digit of your roll number (plot a)\n",
    "from numpy import linalg as LA\n",
    "from sklearn import preprocessing\n",
    "\n",
    "np.set_printoptions(precision=5)\n",
    "\n",
    "total_test_points = len(train_data)\n",
    "my_digit = 3\n",
    "my_digit_data = []\n",
    "for ind in xrange(total_test_points):\n",
    "    if(train_labels[ind] == my_digit):\n",
    "        my_digit_data.append(train_data[ind])\n",
    "\n",
    "my_cov = np.cov(my_digit_data,rowvar=False)\n",
    "eig_vals ,eig_vecs = LA.eigh(my_cov)\n",
    "max_val = np.amax(eig_vals)\n",
    "norm_eig_vals = eig_vals / max_val\n",
    "\n",
    "top = (norm_eig_vals[-100:])\n",
    "# print(top)\n",
    "plt.bar((np.arange(len(top))),(top))\n",
    "plt.show()"
   ]
  },
  {
   "cell_type": "code",
   "execution_count": 14,
   "metadata": {
    "scrolled": false
   },
   "outputs": [
    {
     "data": {
      "image/png": "[encoded data removed]",
      "text/plain": [
       "<Figure size 432x288 with 1 Axes>"
      ]
     },
     "metadata": {
      "needs_background": "light"
     },
     "output_type": "display_data"
    }
   ],
   "source": [
    "# Samples corresponding to the last digit of (your roll number + 1) % 10 (plot b)\n",
    "your_digit = (my_digit + 1) % 10\n",
    "your_digit_data = []\n",
    "for ind in xrange(total_test_points):\n",
    "    if(train_labels[ind] == your_digit):\n",
    "        your_digit_data.append(train_data[ind])\n",
    "\n",
    "my_cov = np.cov(your_digit_data,rowvar=False)\n",
    "eig_vals ,eig_vecs = LA.eigh(my_cov)\n",
    "max_val = np.amax(eig_vals)\n",
    "norm_eig_vals = eig_vals / max_val\n",
    "\n",
    "top = (norm_eig_vals[-100:])\n",
    "# print(top)\n",
    "plt.bar((np.arange(len(top))),(top))\n",
    "plt.show()"
   ]
  },
  {
   "cell_type": "code",
   "execution_count": 15,
   "metadata": {},
   "outputs": [
    {
     "name": "stdout",
     "output_type": "stream",
     "text": [
      "[-1.30969e-11 -9.37830e-12 -6.90795e-12 -4.32616e-12 -4.02168e-12\n",
      " -3.83450e-12 -3.13676e-12 -2.51088e-12 -1.70045e-12 -1.63398e-12\n",
      " -1.46449e-12 -7.21195e-13 -6.36251e-13 -4.83557e-13 -3.83523e-13\n",
      " -2.54620e-13 -1.64390e-13 -1.34315e-13 -9.75956e-14 -8.36305e-14\n",
      " -6.97681e-14 -6.73295e-14 -5.82000e-14 -3.87979e-14 -3.19664e-14\n",
      " -2.00120e-14 -1.33396e-14 -1.09171e-14 -4.36137e-15 -2.80629e-15\n",
      " -8.78260e-16 -8.17748e-16 -3.55886e-16 -1.53146e-16 -9.96354e-17\n",
      " -1.85621e-28 -8.09583e-29 -4.48568e-29 -1.30880e-29 -7.46149e-30\n",
      " -4.90415e-30 -2.85995e-30 -6.05503e-31  0.00000e+00  0.00000e+00\n",
      "  0.00000e+00  0.00000e+00  0.00000e+00  0.00000e+00  0.00000e+00\n",
      "  0.00000e+00  0.00000e+00  0.00000e+00  0.00000e+00  0.00000e+00\n",
      "  0.00000e+00  0.00000e+00  0.00000e+00  0.00000e+00  0.00000e+00\n",
      "  0.00000e+00  0.00000e+00  0.00000e+00  0.00000e+00  0.00000e+00\n",
      "  0.00000e+00  0.00000e+00  0.00000e+00  0.00000e+00  0.00000e+00\n",
      "  0.00000e+00  0.00000e+00  0.00000e+00  0.00000e+00  0.00000e+00\n",
      "  0.00000e+00  0.00000e+00  0.00000e+00  0.00000e+00  0.00000e+00\n",
      "  0.00000e+00  0.00000e+00  0.00000e+00  1.83334e-31  1.74294e-30\n",
      "  3.16015e-30  5.33810e-30  7.73494e-30  4.92198e-29  2.47654e-28\n",
      "  5.34130e-18  8.77711e-17  1.17570e-16  1.50626e-16  3.08057e-16\n",
      "  8.37704e-16  1.10705e-15  4.20632e-15  8.23603e-15  8.70346e-15\n",
      "  1.15778e-14  1.26489e-14  1.29701e-14  2.54325e-14  2.84347e-14\n",
      "  3.00499e-14  3.51649e-14  3.63638e-14  4.58098e-14  5.82470e-14\n",
      "  7.05856e-14  8.15072e-14  1.00880e-13  1.97093e-13  2.88505e-13\n",
      "  3.75274e-13  5.46908e-13  7.32875e-13  1.02483e-12  1.38267e-12\n",
      "  2.01863e-12  2.53959e-12  4.49329e-12  7.59592e-12  1.23802e-11\n",
      "  1.47451e-11  4.03785e-03  6.83317e-03  7.10517e-03  1.56869e-02\n",
      "  2.22973e-02  2.79995e-02  3.32563e-02  3.66667e-02  4.11757e-02\n",
      "  4.42795e-02  6.27444e-02  6.92163e-02  7.61865e-02  7.72632e-02\n",
      "  8.59574e-02  1.07467e-01  1.17865e-01  2.32152e-01  2.45039e-01\n",
      "  3.34100e-01  3.50210e-01  3.78907e-01  4.09551e-01  4.17923e-01\n",
      "  4.68745e-01  5.23571e-01  5.41892e-01  6.72194e-01  7.51248e-01\n",
      "  7.72129e-01  9.07098e-01  9.62147e-01  9.95288e-01  1.09097e+00\n",
      "  1.10311e+00  1.23551e+00  1.24657e+00  1.28794e+00  1.31253e+00\n",
      "  1.36360e+00  1.71029e+00  1.71709e+00  1.74411e+00  2.16558e+00\n",
      "  2.19009e+00  2.46029e+00  2.59276e+00  2.68361e+00  2.78769e+00\n",
      "  3.02148e+00  3.19772e+00  3.27249e+00  3.33934e+00  3.67187e+00\n",
      "  3.71974e+00  3.97999e+00  4.14173e+00  4.21781e+00  4.26232e+00\n",
      "  4.32899e+00  4.49033e+00  4.81250e+00  4.91692e+00  5.03061e+00\n",
      "  5.18747e+00  5.43087e+00  5.53926e+00  5.61701e+00  5.86891e+00\n",
      "  6.05276e+00  6.19168e+00  6.25382e+00  6.38975e+00  6.52312e+00\n",
      "  6.71863e+00  7.03134e+00  7.43028e+00  7.67137e+00  7.67712e+00\n",
      "  8.13578e+00  8.14264e+00  8.33599e+00  8.59852e+00  8.74288e+00\n",
      "  9.18023e+00  9.25907e+00  9.87410e+00  1.01801e+01  1.03037e+01\n",
      "  1.04391e+01  1.05210e+01  1.07735e+01  1.08001e+01  1.09797e+01\n",
      "  1.16378e+01  1.21249e+01  1.27177e+01  1.30743e+01  1.34175e+01\n",
      "  1.36876e+01  1.43731e+01  1.45344e+01  1.49571e+01  1.52549e+01\n",
      "  1.57574e+01  1.58926e+01  1.63704e+01  1.74812e+01  1.77947e+01\n",
      "  1.80560e+01  1.81018e+01  1.89439e+01  1.91606e+01  1.98792e+01\n",
      "  2.04042e+01  2.14160e+01  2.17421e+01  2.23903e+01  2.29369e+01\n",
      "  2.35269e+01  2.37497e+01  2.39404e+01  2.48091e+01  2.58143e+01\n",
      "  2.60283e+01  2.67716e+01  2.69248e+01  2.73308e+01  2.82363e+01\n",
      "  2.88332e+01  2.89457e+01  3.06771e+01  3.07580e+01  3.11310e+01\n",
      "  3.16232e+01  3.23032e+01  3.25519e+01  3.31858e+01  3.36415e+01\n",
      "  3.46328e+01  3.50914e+01  3.55102e+01  3.63506e+01  3.70086e+01\n",
      "  3.77733e+01  3.88469e+01  3.94096e+01  4.00008e+01  4.05417e+01\n",
      "  4.06140e+01  4.16044e+01  4.23028e+01  4.32705e+01  4.34298e+01\n",
      "  4.36242e+01  4.47941e+01  4.53364e+01  4.54328e+01  4.66925e+01\n",
      "  4.72808e+01  4.86861e+01  4.93186e+01  4.99406e+01  5.05754e+01\n",
      "  5.18175e+01  5.27508e+01  5.29475e+01  5.44923e+01  5.47329e+01\n",
      "  5.69526e+01  5.82146e+01  5.88451e+01  5.96750e+01  6.07722e+01\n",
      "  6.16651e+01  6.17297e+01  6.31876e+01  6.43572e+01  6.65665e+01\n",
      "  6.68711e+01  6.69557e+01  6.83268e+01  7.07265e+01  7.15126e+01\n",
      "  7.29472e+01  7.39463e+01  7.47971e+01  7.65011e+01  7.69678e+01\n",
      "  7.78150e+01  7.95500e+01  8.04444e+01  8.12642e+01  8.15929e+01\n",
      "  8.36782e+01  8.53228e+01  8.61253e+01  8.70201e+01  8.75117e+01\n",
      "  8.97593e+01  9.09274e+01  9.14577e+01  9.31902e+01  9.45130e+01\n",
      "  9.53440e+01  9.64551e+01  9.82433e+01  9.94218e+01  1.01759e+02\n",
      "  1.03010e+02  1.04548e+02  1.05731e+02  1.05922e+02  1.07911e+02\n",
      "  1.10766e+02  1.12322e+02  1.14906e+02  1.15677e+02  1.15879e+02\n",
      "  1.17255e+02  1.18981e+02  1.20900e+02  1.23563e+02  1.25622e+02\n",
      "  1.26617e+02  1.28728e+02  1.30775e+02  1.31768e+02  1.35312e+02\n",
      "  1.36483e+02  1.37171e+02  1.39197e+02  1.42080e+02  1.44316e+02\n",
      "  1.45094e+02  1.47207e+02  1.48210e+02  1.49711e+02  1.53193e+02\n",
      "  1.53775e+02  1.56226e+02  1.57419e+02  1.60768e+02  1.63621e+02\n",
      "  1.64249e+02  1.66653e+02  1.67968e+02  1.69513e+02  1.71742e+02\n",
      "  1.74713e+02  1.77643e+02  1.79509e+02  1.80902e+02  1.83316e+02\n",
      "  1.85158e+02  1.85681e+02  1.89174e+02  1.90265e+02  1.93112e+02\n",
      "  1.94106e+02  1.96798e+02  2.00302e+02  2.02554e+02  2.04490e+02\n",
      "  2.05641e+02  2.07122e+02  2.10700e+02  2.14437e+02  2.14600e+02\n",
      "  2.15302e+02  2.18328e+02  2.20748e+02  2.22932e+02  2.25249e+02\n",
      "  2.27219e+02  2.28604e+02  2.33521e+02  2.34424e+02  2.36643e+02\n",
      "  2.38840e+02  2.40247e+02  2.43402e+02  2.47042e+02  2.47310e+02\n",
      "  2.50140e+02  2.55728e+02  2.57685e+02  2.59451e+02  2.59884e+02\n",
      "  2.64803e+02  2.67389e+02  2.69347e+02  2.73525e+02  2.75202e+02\n",
      "  2.75934e+02  2.77634e+02  2.81355e+02  2.82024e+02  2.83883e+02\n",
      "  2.85661e+02  2.90210e+02  2.90410e+02  2.94062e+02  2.97686e+02\n",
      "  2.98514e+02  3.01419e+02  3.03866e+02  3.03995e+02  3.08392e+02\n",
      "  3.10178e+02  3.12708e+02  3.13656e+02  3.18864e+02  3.20244e+02\n",
      "  3.23335e+02  3.24678e+02  3.28518e+02  3.31310e+02  3.35168e+02\n",
      "  3.36490e+02  3.39033e+02  3.41707e+02  3.42731e+02  3.44787e+02\n",
      "  3.47447e+02  3.51268e+02  3.53702e+02  3.54550e+02  3.59607e+02\n",
      "  3.61890e+02  3.65783e+02  3.66412e+02  3.68733e+02  3.71149e+02\n",
      "  3.73782e+02  3.80146e+02  3.81392e+02  3.83786e+02  3.86419e+02\n",
      "  3.87434e+02  3.95568e+02  3.98035e+02  3.98286e+02  4.00280e+02\n",
      "  4.05935e+02  4.06186e+02  4.08179e+02  4.12239e+02  4.16058e+02\n",
      "  4.17645e+02  4.19563e+02  4.23565e+02  4.26703e+02  4.28597e+02\n",
      "  4.33021e+02  4.36964e+02  4.42009e+02  4.48380e+02  4.50391e+02\n",
      "  4.55201e+02  4.60588e+02  4.61491e+02  4.65084e+02  4.69517e+02\n",
      "  4.70041e+02  4.75054e+02  4.77397e+02  4.81165e+02  4.84071e+02\n",
      "  4.86193e+02  4.90897e+02  4.97831e+02  4.99036e+02  5.00713e+02\n",
      "  5.05254e+02  5.09151e+02  5.12093e+02  5.12557e+02  5.21860e+02\n",
      "  5.24746e+02  5.28629e+02  5.36272e+02  5.38035e+02  5.39082e+02\n",
      "  5.43994e+02  5.48512e+02  5.51975e+02  5.55341e+02  5.57732e+02\n",
      "  5.62703e+02  5.63711e+02  5.66419e+02  5.69825e+02  5.79909e+02\n",
      "  5.81163e+02  5.83650e+02  5.88374e+02  5.92456e+02  5.93820e+02\n",
      "  5.97324e+02  6.04293e+02  6.06568e+02  6.12265e+02  6.16034e+02\n",
      "  6.22421e+02  6.28990e+02  6.33496e+02  6.39788e+02  6.41542e+02\n",
      "  6.49082e+02  6.51151e+02  6.53492e+02  6.60653e+02  6.66671e+02\n",
      "  6.68572e+02  6.72534e+02  6.80041e+02  6.83653e+02  6.85720e+02\n",
      "  7.03531e+02  7.06902e+02  7.10621e+02  7.14006e+02  7.21959e+02\n",
      "  7.26452e+02  7.27526e+02  7.33468e+02  7.44576e+02  7.55217e+02\n",
      "  7.58473e+02  7.61903e+02  7.64348e+02  7.72041e+02  7.75499e+02\n",
      "  7.81865e+02  7.92224e+02  7.94793e+02  7.99255e+02  8.07308e+02\n",
      "  8.12319e+02  8.14840e+02  8.22005e+02  8.28196e+02  8.32257e+02\n",
      "  8.46772e+02  8.53164e+02  8.56883e+02  8.63288e+02  8.65623e+02\n",
      "  8.78583e+02  8.83562e+02  8.94875e+02  8.97963e+02  9.03060e+02\n",
      "  9.15750e+02  9.22296e+02  9.45466e+02  9.50168e+02  9.54237e+02\n",
      "  9.61659e+02  9.69457e+02  9.74730e+02  9.82151e+02  9.85671e+02\n",
      "  9.97677e+02  1.01208e+03  1.01669e+03  1.03004e+03  1.04811e+03\n",
      "  1.05264e+03  1.05370e+03  1.06531e+03  1.07682e+03  1.08792e+03\n",
      "  1.08976e+03  1.10862e+03  1.11866e+03  1.12289e+03  1.12931e+03\n",
      "  1.15181e+03  1.15291e+03  1.16638e+03  1.18019e+03  1.18798e+03\n",
      "  1.19524e+03  1.21412e+03  1.22519e+03  1.23224e+03  1.24305e+03\n",
      "  1.25771e+03  1.27067e+03  1.28277e+03  1.29588e+03  1.32729e+03\n",
      "  1.34512e+03  1.36163e+03  1.36606e+03  1.38761e+03  1.40691e+03\n",
      "  1.41380e+03  1.43811e+03  1.46158e+03  1.47527e+03  1.48958e+03\n",
      "  1.50444e+03  1.51509e+03  1.52245e+03  1.55014e+03  1.56173e+03\n",
      "  1.57811e+03  1.59829e+03  1.61017e+03  1.67715e+03  1.69565e+03\n",
      "  1.70971e+03  1.72467e+03  1.76192e+03  1.78769e+03  1.79702e+03\n",
      "  1.81845e+03  1.83192e+03  1.90308e+03  1.91201e+03  1.94815e+03\n",
      "  1.98098e+03  2.00247e+03  2.00489e+03  2.03901e+03  2.07060e+03\n",
      "  2.09861e+03  2.11803e+03  2.15791e+03  2.16919e+03  2.21594e+03\n",
      "  2.25337e+03  2.29153e+03  2.30030e+03  2.36455e+03  2.38334e+03\n",
      "  2.39929e+03  2.44574e+03  2.46179e+03  2.49714e+03  2.53394e+03\n",
      "  2.56216e+03  2.59734e+03  2.67006e+03  2.70331e+03  2.77783e+03\n",
      "  2.85616e+03  2.90619e+03  2.98482e+03  3.00935e+03  3.05410e+03\n",
      "  3.06085e+03  3.14619e+03  3.23347e+03  3.26630e+03  3.33046e+03\n",
      "  3.37844e+03  3.43707e+03  3.53603e+03  3.60709e+03  3.62460e+03\n",
      "  3.69728e+03  3.80819e+03  3.88236e+03  4.01126e+03  4.08626e+03\n",
      "  4.10579e+03  4.25700e+03  4.31712e+03  4.37436e+03  4.55357e+03\n",
      "  4.57628e+03  4.66298e+03  4.72423e+03  4.85167e+03  4.97442e+03\n",
      "  4.99621e+03  5.15354e+03  5.37099e+03  5.46858e+03  5.64846e+03\n",
      "  5.79627e+03  5.86515e+03  6.01189e+03  6.26853e+03  6.44355e+03\n",
      "  6.64204e+03  6.82117e+03  6.95442e+03  7.09836e+03  7.22641e+03\n",
      "  7.67445e+03  7.92235e+03  7.97095e+03  8.12215e+03  8.52200e+03\n",
      "  8.59003e+03  8.72568e+03  9.17732e+03  9.48202e+03  9.67934e+03\n",
      "  1.00317e+04  1.03704e+04  1.09475e+04  1.11616e+04  1.12537e+04\n",
      "  1.14655e+04  1.18904e+04  1.20160e+04  1.27276e+04  1.31483e+04\n",
      "  1.40938e+04  1.41652e+04  1.44306e+04  1.56687e+04  1.57624e+04\n",
      "  1.64845e+04  1.67768e+04  1.80073e+04  1.83261e+04  1.91242e+04\n",
      "  2.03317e+04  2.07938e+04  2.19144e+04  2.30803e+04  2.35237e+04\n",
      "  2.52407e+04  2.64825e+04  2.77170e+04  3.01930e+04  3.03042e+04\n",
      "  3.22809e+04  3.33744e+04  3.45454e+04  3.55099e+04  3.96508e+04\n",
      "  4.17459e+04  4.38437e+04  4.42540e+04  5.41426e+04  5.68023e+04\n",
      "  5.72746e+04  5.87819e+04  7.04325e+04  7.29189e+04  8.05937e+04\n",
      "  9.42331e+04  1.02087e+05  1.13690e+05  1.51825e+05  1.66521e+05\n",
      "  1.89966e+05  2.16944e+05  2.45995e+05  3.39839e+05]\n"
     ]
    },
    {
     "data": {
      "image/png": "[encoded data removed]",
      "text/plain": [
       "<Figure size 432x288 with 1 Axes>"
      ]
     },
     "metadata": {
      "needs_background": "light"
     },
     "output_type": "display_data"
    }
   ],
   "source": [
    "# All training data (plot c)\n",
    "my_cov = np.cov(train_data,rowvar=False)\n",
    "eig_vals ,eig_vecs = LA.eigh(my_cov)\n",
    "# print(eig_vals)\n",
    "max_val = np.amax(eig_vals)\n",
    "norm_eig_vals = eig_vals / max_val\n",
    "\n",
    "top = (norm_eig_vals[-100:])\n",
    "# print(top)\n",
    "plt.bar((np.arange(len(top))),(top))\n",
    "plt.show()"
   ]
  },
  {
   "cell_type": "code",
   "execution_count": 16,
   "metadata": {},
   "outputs": [
    {
     "data": {
      "image/png": "[encoded data removed]",
      "text/plain": [
       "<Figure size 432x288 with 1 Axes>"
      ]
     },
     "metadata": {
      "needs_background": "light"
     },
     "output_type": "display_data"
    }
   ],
   "source": [
    "# Randomly selected 50% of the training data (plot d)\n",
    "from random import sample\n",
    "\n",
    "rand_data = sample(train_data,3000)\n",
    "my_cov = np.cov(rand_data,rowvar=False)\n",
    "eig_vals ,eig_vecs = LA.eigh(my_cov)\n",
    "max_val = np.amax(eig_vals)\n",
    "norm_eig_vals = eig_vals / max_val\n",
    "\n",
    "top = (norm_eig_vals[-100:])\n",
    "# print(top)\n",
    "plt.bar((np.arange(len(top))),(top))\n",
    "plt.show()\n"
   ]
  },
  {
   "cell_type": "markdown",
   "metadata": {
    "editable": false
   },
   "source": [
    "### 1.3.1 Question 1\n",
    "- Are plots a and b different? Why?\n",
    "- Are plots b and c different? Why?\n",
    "- What are the approximate ranks of each plot?"
   ]
  },
  {
   "cell_type": "markdown",
   "metadata": {},
   "source": [
    "---\n",
    "Your answers here (double click to edit)\n",
    "\n",
    "1. Plots a and b are not much different as only a single kind of distribution is there.\n",
    "\n",
    "2. Plots b and c are quite different as c comprises of examples from multiple classes and thus having a wider spectrum.\n",
    "\n",
    "3. Ranks\n",
    "    a-5</br>\n",
    "    b-5</br>\n",
    "    c-15</br>\n",
    "    d-15</br>\n",
    "\n",
    "---"
   ]
  },
  {
   "cell_type": "markdown",
   "metadata": {
    "editable": false
   },
   "source": [
    "### 1.3.1 Question 2\n",
    "- How many possible images could there be?\n",
    "- What percentage is accessible to us as MNIST data?\n",
    "- If we had acces to all the data, how would the eigen value spectrum of the covariance matrix look?"
   ]
  },
  {
   "cell_type": "markdown",
   "metadata": {},
   "source": [
    "---\n",
    "Your answers here (double click to edit)\n",
    "\n",
    "1. There can be 2^784 images possible.  1.017458e+236\n",
    "\n",
    "2. Approximately 0 percent.\n",
    "\n",
    "3. The eign values will be all large. Since there will be distribution along all the vectors.\n",
    "---"
   ]
  },
  {
   "cell_type": "markdown",
   "metadata": {
    "editable": false
   },
   "source": [
    "## 1.3.2 Linear Transformation\n",
    "---\n",
    "### 1.3.2 Question 1\n",
    "How does the eigen spectrum change if the original data was multiplied by an orthonormal matrix? Answer analytically and then also validate experimentally."
   ]
  },
  {
   "cell_type": "markdown",
   "metadata": {},
   "source": [
    "---\n",
    "Analytical answer here (double click to edit)\n",
    "\n",
    "The eign values do not change since the matrix just rotates so the eign vectors change their orientation but the spread remains the same. </br>\n",
    "An Orthonormal matrix preserves angles and length. </br>  \n",
    "\n",
    "https://www.khanacademy.org/math/linear-algebra/alternate-bases/orthonormal-basis/v/lin-alg-orthogonal-matrices-preserve-angles-and-lengths). </br>\n",
    "\n",
    "---"
   ]
  },
  {
   "cell_type": "code",
   "execution_count": 17,
   "metadata": {},
   "outputs": [
    {
     "name": "stdout",
     "output_type": "stream",
     "text": [
      "[-1.29102e-11 -1.21036e-11 -9.74956e-12 -7.63409e-12 -6.85170e-12\n",
      " -6.48432e-12 -6.31156e-12 -5.86534e-12 -5.59367e-12 -5.23522e-12\n",
      " -5.09299e-12 -4.92781e-12 -4.85808e-12 -4.62127e-12 -4.34035e-12\n",
      " -4.25908e-12 -4.14225e-12 -4.11525e-12 -4.00112e-12 -3.81544e-12\n",
      " -3.66317e-12 -3.62602e-12 -3.52388e-12 -3.52152e-12 -3.22484e-12\n",
      " -3.15794e-12 -3.13407e-12 -3.01337e-12 -2.94918e-12 -2.82659e-12\n",
      " -2.73252e-12 -2.53913e-12 -2.45543e-12 -2.33605e-12 -2.29893e-12\n",
      " -2.27602e-12 -2.19884e-12 -2.08670e-12 -1.96470e-12 -1.90950e-12\n",
      " -1.78691e-12 -1.76191e-12 -1.69076e-12 -1.54949e-12 -1.46687e-12\n",
      " -1.36054e-12 -1.33724e-12 -1.31291e-12 -1.20938e-12 -1.19339e-12\n",
      " -1.17275e-12 -1.02445e-12 -9.45472e-13 -8.09723e-13 -7.62606e-13\n",
      " -7.21218e-13 -6.74388e-13 -5.38049e-13 -4.24711e-13 -3.85703e-13\n",
      " -3.35107e-13 -2.21759e-13 -1.18751e-13 -6.80641e-14 -4.39274e-14\n",
      "  4.41479e-14  5.46027e-14  1.15705e-13  1.87022e-13  3.17648e-13\n",
      "  5.07329e-13  6.69880e-13  6.82013e-13  6.83969e-13  7.46218e-13\n",
      "  7.91366e-13  8.50179e-13  8.89603e-13  9.13403e-13  1.07279e-12\n",
      "  1.11100e-12  1.11429e-12  1.34728e-12  1.50072e-12  1.51770e-12\n",
      "  1.58862e-12  1.64748e-12  1.79963e-12  1.90500e-12  1.94208e-12\n",
      "  2.00985e-12  2.04573e-12  2.11962e-12  2.11991e-12  2.24819e-12\n",
      "  2.31736e-12  2.48844e-12  2.60042e-12  2.71525e-12  2.74465e-12\n",
      "  2.82230e-12  3.00851e-12  3.07875e-12  3.12712e-12  3.22284e-12\n",
      "  3.37481e-12  3.50260e-12  3.60285e-12  3.82519e-12  3.87725e-12\n",
      "  3.95408e-12  4.13657e-12  4.35286e-12  4.64508e-12  4.90344e-12\n",
      "  5.01352e-12  5.57325e-12  5.62658e-12  6.02209e-12  6.43429e-12\n",
      "  7.71443e-12  7.75354e-12  8.60076e-12  8.73162e-12  1.16722e-11\n",
      "  1.56908e-11  4.03785e-03  6.83317e-03  7.10517e-03  1.56869e-02\n",
      "  2.22973e-02  2.79995e-02  3.32563e-02  3.66667e-02  4.11757e-02\n",
      "  4.42795e-02  6.27444e-02  6.92163e-02  7.61865e-02  7.72632e-02\n",
      "  8.59574e-02  1.07467e-01  1.17865e-01  2.32152e-01  2.45039e-01\n",
      "  3.34100e-01  3.50210e-01  3.78907e-01  4.09551e-01  4.17923e-01\n",
      "  4.68745e-01  5.23571e-01  5.41892e-01  6.72194e-01  7.51248e-01\n",
      "  7.72129e-01  9.07098e-01  9.62147e-01  9.95288e-01  1.09097e+00\n",
      "  1.10311e+00  1.23551e+00  1.24657e+00  1.28794e+00  1.31253e+00\n",
      "  1.36360e+00  1.71029e+00  1.71709e+00  1.74411e+00  2.16558e+00\n",
      "  2.19009e+00  2.46029e+00  2.59276e+00  2.68361e+00  2.78769e+00\n",
      "  3.02148e+00  3.19772e+00  3.27249e+00  3.33934e+00  3.67187e+00\n",
      "  3.71974e+00  3.97999e+00  4.14173e+00  4.21781e+00  4.26232e+00\n",
      "  4.32899e+00  4.49033e+00  4.81250e+00  4.91692e+00  5.03061e+00\n",
      "  5.18747e+00  5.43087e+00  5.53926e+00  5.61701e+00  5.86891e+00\n",
      "  6.05276e+00  6.19168e+00  6.25382e+00  6.38975e+00  6.52312e+00\n",
      "  6.71863e+00  7.03134e+00  7.43028e+00  7.67137e+00  7.67712e+00\n",
      "  8.13578e+00  8.14264e+00  8.33599e+00  8.59852e+00  8.74288e+00\n",
      "  9.18023e+00  9.25907e+00  9.87410e+00  1.01801e+01  1.03037e+01\n",
      "  1.04391e+01  1.05210e+01  1.07735e+01  1.08001e+01  1.09797e+01\n",
      "  1.16378e+01  1.21249e+01  1.27177e+01  1.30743e+01  1.34175e+01\n",
      "  1.36876e+01  1.43731e+01  1.45344e+01  1.49571e+01  1.52549e+01\n",
      "  1.57574e+01  1.58926e+01  1.63704e+01  1.74812e+01  1.77947e+01\n",
      "  1.80560e+01  1.81018e+01  1.89439e+01  1.91606e+01  1.98792e+01\n",
      "  2.04042e+01  2.14160e+01  2.17421e+01  2.23903e+01  2.29369e+01\n",
      "  2.35269e+01  2.37497e+01  2.39404e+01  2.48091e+01  2.58143e+01\n",
      "  2.60283e+01  2.67716e+01  2.69248e+01  2.73308e+01  2.82363e+01\n",
      "  2.88332e+01  2.89457e+01  3.06771e+01  3.07580e+01  3.11310e+01\n",
      "  3.16232e+01  3.23032e+01  3.25519e+01  3.31858e+01  3.36415e+01\n",
      "  3.46328e+01  3.50914e+01  3.55102e+01  3.63506e+01  3.70086e+01\n",
      "  3.77733e+01  3.88469e+01  3.94096e+01  4.00008e+01  4.05417e+01\n",
      "  4.06140e+01  4.16044e+01  4.23028e+01  4.32705e+01  4.34298e+01\n",
      "  4.36242e+01  4.47941e+01  4.53364e+01  4.54328e+01  4.66925e+01\n",
      "  4.72808e+01  4.86861e+01  4.93186e+01  4.99406e+01  5.05754e+01\n",
      "  5.18175e+01  5.27508e+01  5.29475e+01  5.44923e+01  5.47329e+01\n",
      "  5.69526e+01  5.82146e+01  5.88451e+01  5.96750e+01  6.07722e+01\n",
      "  6.16651e+01  6.17297e+01  6.31876e+01  6.43572e+01  6.65665e+01\n",
      "  6.68711e+01  6.69557e+01  6.83268e+01  7.07265e+01  7.15126e+01\n",
      "  7.29472e+01  7.39463e+01  7.47971e+01  7.65011e+01  7.69678e+01\n",
      "  7.78150e+01  7.95500e+01  8.04444e+01  8.12642e+01  8.15929e+01\n",
      "  8.36782e+01  8.53228e+01  8.61253e+01  8.70201e+01  8.75117e+01\n",
      "  8.97593e+01  9.09274e+01  9.14577e+01  9.31902e+01  9.45130e+01\n",
      "  9.53440e+01  9.64551e+01  9.82433e+01  9.94218e+01  1.01759e+02\n",
      "  1.03010e+02  1.04548e+02  1.05731e+02  1.05922e+02  1.07911e+02\n",
      "  1.10766e+02  1.12322e+02  1.14906e+02  1.15677e+02  1.15879e+02\n",
      "  1.17255e+02  1.18981e+02  1.20900e+02  1.23563e+02  1.25622e+02\n",
      "  1.26617e+02  1.28728e+02  1.30775e+02  1.31768e+02  1.35312e+02\n",
      "  1.36483e+02  1.37171e+02  1.39197e+02  1.42080e+02  1.44316e+02\n",
      "  1.45094e+02  1.47207e+02  1.48210e+02  1.49711e+02  1.53193e+02\n",
      "  1.53775e+02  1.56226e+02  1.57419e+02  1.60768e+02  1.63621e+02\n",
      "  1.64249e+02  1.66653e+02  1.67968e+02  1.69513e+02  1.71742e+02\n",
      "  1.74713e+02  1.77643e+02  1.79509e+02  1.80902e+02  1.83316e+02\n",
      "  1.85158e+02  1.85681e+02  1.89174e+02  1.90265e+02  1.93112e+02\n",
      "  1.94106e+02  1.96798e+02  2.00302e+02  2.02554e+02  2.04490e+02\n",
      "  2.05641e+02  2.07122e+02  2.10700e+02  2.14437e+02  2.14600e+02\n",
      "  2.15302e+02  2.18328e+02  2.20748e+02  2.22932e+02  2.25249e+02\n",
      "  2.27219e+02  2.28604e+02  2.33521e+02  2.34424e+02  2.36643e+02\n",
      "  2.38840e+02  2.40247e+02  2.43402e+02  2.47042e+02  2.47310e+02\n",
      "  2.50140e+02  2.55728e+02  2.57685e+02  2.59451e+02  2.59884e+02\n",
      "  2.64803e+02  2.67389e+02  2.69347e+02  2.73525e+02  2.75202e+02\n",
      "  2.75934e+02  2.77634e+02  2.81355e+02  2.82024e+02  2.83883e+02\n",
      "  2.85661e+02  2.90210e+02  2.90410e+02  2.94062e+02  2.97686e+02\n",
      "  2.98514e+02  3.01419e+02  3.03866e+02  3.03995e+02  3.08392e+02\n",
      "  3.10178e+02  3.12708e+02  3.13656e+02  3.18864e+02  3.20244e+02\n",
      "  3.23335e+02  3.24678e+02  3.28518e+02  3.31310e+02  3.35168e+02\n",
      "  3.36490e+02  3.39033e+02  3.41707e+02  3.42731e+02  3.44787e+02\n",
      "  3.47447e+02  3.51268e+02  3.53702e+02  3.54550e+02  3.59607e+02\n",
      "  3.61890e+02  3.65783e+02  3.66412e+02  3.68733e+02  3.71149e+02\n",
      "  3.73782e+02  3.80146e+02  3.81392e+02  3.83786e+02  3.86419e+02\n",
      "  3.87434e+02  3.95568e+02  3.98035e+02  3.98286e+02  4.00280e+02\n",
      "  4.05935e+02  4.06186e+02  4.08179e+02  4.12239e+02  4.16058e+02\n",
      "  4.17645e+02  4.19563e+02  4.23565e+02  4.26703e+02  4.28597e+02\n",
      "  4.33021e+02  4.36964e+02  4.42009e+02  4.48380e+02  4.50391e+02\n",
      "  4.55201e+02  4.60588e+02  4.61491e+02  4.65084e+02  4.69517e+02\n",
      "  4.70041e+02  4.75054e+02  4.77397e+02  4.81165e+02  4.84071e+02\n",
      "  4.86193e+02  4.90897e+02  4.97831e+02  4.99036e+02  5.00713e+02\n",
      "  5.05254e+02  5.09151e+02  5.12093e+02  5.12557e+02  5.21860e+02\n",
      "  5.24746e+02  5.28629e+02  5.36272e+02  5.38035e+02  5.39082e+02\n",
      "  5.43994e+02  5.48512e+02  5.51975e+02  5.55341e+02  5.57732e+02\n",
      "  5.62703e+02  5.63711e+02  5.66419e+02  5.69825e+02  5.79909e+02\n",
      "  5.81163e+02  5.83650e+02  5.88374e+02  5.92456e+02  5.93820e+02\n",
      "  5.97324e+02  6.04293e+02  6.06568e+02  6.12265e+02  6.16034e+02\n",
      "  6.22421e+02  6.28990e+02  6.33496e+02  6.39788e+02  6.41542e+02\n",
      "  6.49082e+02  6.51151e+02  6.53492e+02  6.60653e+02  6.66671e+02\n",
      "  6.68572e+02  6.72534e+02  6.80041e+02  6.83653e+02  6.85720e+02\n",
      "  7.03531e+02  7.06902e+02  7.10621e+02  7.14006e+02  7.21959e+02\n",
      "  7.26452e+02  7.27526e+02  7.33468e+02  7.44576e+02  7.55217e+02\n",
      "  7.58473e+02  7.61903e+02  7.64348e+02  7.72041e+02  7.75499e+02\n",
      "  7.81865e+02  7.92224e+02  7.94793e+02  7.99255e+02  8.07308e+02\n",
      "  8.12319e+02  8.14840e+02  8.22005e+02  8.28196e+02  8.32257e+02\n",
      "  8.46772e+02  8.53164e+02  8.56883e+02  8.63288e+02  8.65623e+02\n",
      "  8.78583e+02  8.83562e+02  8.94875e+02  8.97963e+02  9.03060e+02\n",
      "  9.15750e+02  9.22296e+02  9.45466e+02  9.50168e+02  9.54237e+02\n",
      "  9.61659e+02  9.69457e+02  9.74730e+02  9.82151e+02  9.85671e+02\n",
      "  9.97677e+02  1.01208e+03  1.01669e+03  1.03004e+03  1.04811e+03\n",
      "  1.05264e+03  1.05370e+03  1.06531e+03  1.07682e+03  1.08792e+03\n",
      "  1.08976e+03  1.10862e+03  1.11866e+03  1.12289e+03  1.12931e+03\n",
      "  1.15181e+03  1.15291e+03  1.16638e+03  1.18019e+03  1.18798e+03\n",
      "  1.19524e+03  1.21412e+03  1.22519e+03  1.23224e+03  1.24305e+03\n",
      "  1.25771e+03  1.27067e+03  1.28277e+03  1.29588e+03  1.32729e+03\n",
      "  1.34512e+03  1.36163e+03  1.36606e+03  1.38761e+03  1.40691e+03\n",
      "  1.41380e+03  1.43811e+03  1.46158e+03  1.47527e+03  1.48958e+03\n",
      "  1.50444e+03  1.51509e+03  1.52245e+03  1.55014e+03  1.56173e+03\n",
      "  1.57811e+03  1.59829e+03  1.61017e+03  1.67715e+03  1.69565e+03\n",
      "  1.70971e+03  1.72467e+03  1.76192e+03  1.78769e+03  1.79702e+03\n",
      "  1.81845e+03  1.83192e+03  1.90308e+03  1.91201e+03  1.94815e+03\n",
      "  1.98098e+03  2.00247e+03  2.00489e+03  2.03901e+03  2.07060e+03\n",
      "  2.09861e+03  2.11803e+03  2.15791e+03  2.16919e+03  2.21594e+03\n",
      "  2.25337e+03  2.29153e+03  2.30030e+03  2.36455e+03  2.38334e+03\n",
      "  2.39929e+03  2.44574e+03  2.46179e+03  2.49714e+03  2.53394e+03\n",
      "  2.56216e+03  2.59734e+03  2.67006e+03  2.70331e+03  2.77783e+03\n",
      "  2.85616e+03  2.90619e+03  2.98482e+03  3.00935e+03  3.05410e+03\n",
      "  3.06085e+03  3.14619e+03  3.23347e+03  3.26630e+03  3.33046e+03\n",
      "  3.37844e+03  3.43707e+03  3.53603e+03  3.60709e+03  3.62460e+03\n",
      "  3.69728e+03  3.80819e+03  3.88236e+03  4.01126e+03  4.08626e+03\n",
      "  4.10579e+03  4.25700e+03  4.31712e+03  4.37436e+03  4.55357e+03\n",
      "  4.57628e+03  4.66298e+03  4.72423e+03  4.85167e+03  4.97442e+03\n",
      "  4.99621e+03  5.15354e+03  5.37099e+03  5.46858e+03  5.64846e+03\n",
      "  5.79627e+03  5.86515e+03  6.01189e+03  6.26853e+03  6.44355e+03\n",
      "  6.64204e+03  6.82117e+03  6.95442e+03  7.09836e+03  7.22641e+03\n",
      "  7.67445e+03  7.92235e+03  7.97095e+03  8.12215e+03  8.52200e+03\n",
      "  8.59003e+03  8.72568e+03  9.17732e+03  9.48202e+03  9.67934e+03\n",
      "  1.00317e+04  1.03704e+04  1.09475e+04  1.11616e+04  1.12537e+04\n",
      "  1.14655e+04  1.18904e+04  1.20160e+04  1.27276e+04  1.31483e+04\n",
      "  1.40938e+04  1.41652e+04  1.44306e+04  1.56687e+04  1.57624e+04\n",
      "  1.64845e+04  1.67768e+04  1.80073e+04  1.83261e+04  1.91242e+04\n",
      "  2.03317e+04  2.07938e+04  2.19144e+04  2.30803e+04  2.35237e+04\n",
      "  2.52407e+04  2.64825e+04  2.77170e+04  3.01930e+04  3.03042e+04\n",
      "  3.22809e+04  3.33744e+04  3.45454e+04  3.55099e+04  3.96508e+04\n",
      "  4.17459e+04  4.38437e+04  4.42540e+04  5.41426e+04  5.68023e+04\n",
      "  5.72746e+04  5.87819e+04  7.04325e+04  7.29189e+04  8.05937e+04\n",
      "  9.42331e+04  1.02087e+05  1.13690e+05  1.51825e+05  1.66521e+05\n",
      "  1.89966e+05  2.16944e+05  2.45995e+05  3.39839e+05]\n"
     ]
    },
    {
     "data": {
      "image/png": "[encoded data removed]",
      "text/plain": [
       "<Figure size 432x288 with 1 Axes>"
      ]
     },
     "metadata": {
      "needs_background": "light"
     },
     "output_type": "display_data"
    }
   ],
   "source": [
    "# Experimental validation here.\n",
    "# Multiply your data (train_data) with an orthonormal matrix and plot the\n",
    "# eigen value specturm of the new covariance matrix.\n",
    "\n",
    "# code goes here\n",
    "from scipy.stats import ortho_group\n",
    "\n",
    "onm = ortho_group.rvs(dim = 784)\n",
    "\n",
    "my_cov = np.cov(np.matmul(train_data,onm),rowvar=False)\n",
    "eig_vals ,eig_vecs = LA.eigh(my_cov)\n",
    "# print(eig_vals)\n",
    "max_val = np.amax(eig_vals)\n",
    "norm_eig_vals = eig_vals / max_val\n",
    "\n",
    "top = (norm_eig_vals[-100:])\n",
    "# print(top)\n",
    "plt.bar((np.arange(len(top))),(top))\n",
    "plt.show()\n"
   ]
  },
  {
   "cell_type": "markdown",
   "metadata": {
    "editable": false
   },
   "source": [
    "### 1.3.2 Question 2\n",
    "If  samples  were  multiplied  by  784 × 784  matrix  of rank 1 or 2, (rank deficient matrices), how will the eigen spectrum look like?"
   ]
  },
  {
   "cell_type": "markdown",
   "metadata": {},
   "source": [
    "---\n",
    "Your answer here (double click to edit)\n",
    "\n",
    "Then only the first 1 or 2 columns of the original matrix will be there in the final matrix. So there will be only 2 rows which will contain non-zero values in the co-variance matrix. Thus there will be 1-2 non zero eign values and rest will be zeroes.\n",
    "\n",
    "---"
   ]
  },
  {
   "cell_type": "markdown",
   "metadata": {
    "editable": false
   },
   "source": [
    "### 1.3.2 Question 3\n",
    "Project the original data into the first and second eigenvectors and plot in 2D"
   ]
  },
  {
   "cell_type": "code",
   "execution_count": 22,
   "metadata": {},
   "outputs": [
    {
     "name": "stdout",
     "output_type": "stream",
     "text": [
      "(784,)\n",
      "(784, 784)\n",
      "(784,)\n"
     ]
    },
    {
     "data": {
      "image/png": "[encoded data removed]",
      "text/plain": [
       "<Figure size 432x288 with 1 Axes>"
      ]
     },
     "metadata": {
      "needs_background": "light"
     },
     "output_type": "display_data"
    }
   ],
   "source": [
    "# Plotting code here\n",
    "my_cov = np.cov(train_data,rowvar=False)\n",
    "eig_vals ,eig_vecs = LA.eigh(my_cov)\n",
    "print(eig_vals.shape)\n",
    "print(eig_vecs.shape)\n",
    "\n",
    "idx = eig_vals.argsort()[::-1]   \n",
    "eig_vals = eig_vals[idx]\n",
    "eig_vecs = eig_vecs[:,idx]\n",
    "\n",
    "vec1 = eig_vecs[:,0]\n",
    "vec2 = eig_vecs[:,1]\n",
    "\n",
    "x_cors = np.matmul(train_data,vec1)\n",
    "y_cors = np.matmul(train_data,vec2)\n",
    "\n",
    "plt.scatter(x_cors,y_cors)\n",
    "plt.show()\n",
    "\n",
    "\n"
   ]
  },
  {
   "cell_type": "markdown",
   "metadata": {
    "editable": false
   },
   "source": [
    "## 1.3.3 Probabilistic View\n",
    "---\n",
    "In this section you will classify the test set by fitting multivariate gaussians on the train set, with different choices for decision boundaries. On running, your code should print the accuracy on your test set."
   ]
  },
  {
   "cell_type": "code",
   "execution_count": 8,
   "metadata": {},
   "outputs": [],
   "source": [
    "# Print accuracy on the test set using MLE"
   ]
  },
  {
   "cell_type": "code",
   "execution_count": 9,
   "metadata": {},
   "outputs": [],
   "source": [
    "# Print accuracy on the test set using MAP\n",
    "# (assume a reasonable prior and mention it in the comments)"
   ]
  },
  {
   "cell_type": "code",
   "execution_count": 10,
   "metadata": {},
   "outputs": [],
   "source": [
    "# Print accuracy using Bayesian pairwise majority voting method"
   ]
  },
  {
   "cell_type": "code",
   "execution_count": 11,
   "metadata": {},
   "outputs": [],
   "source": [
    "# Print accuracy using Simple Perpendicular Bisector majority voting method"
   ]
  },
  {
   "cell_type": "markdown",
   "metadata": {
    "editable": false
   },
   "source": [
    "### 1.3.3 Question 4\n",
    "Compare performances and salient observations"
   ]
  },
  {
   "cell_type": "markdown",
   "metadata": {},
   "source": [
    "---\n",
    "Your analysis here (double click to edit)\n",
    "\n",
    "---"
   ]
  },
  {
   "cell_type": "markdown",
   "metadata": {
    "editable": false
   },
   "source": [
    "## 1.3.4 Nearest Neighbour based Tasks and Design\n",
    "---\n",
    "### 1.3.4 Question 1 : NN Classification with various K\n",
    "Implement a KNN classifier and print accuracies on the test set with K=1,3,7"
   ]
  },
  {
   "cell_type": "code",
   "execution_count": 12,
   "metadata": {},
   "outputs": [],
   "source": [
    "# Your code here\n",
    "# Print accuracies with K = 1, 3, 7"
   ]
  },
  {
   "cell_type": "markdown",
   "metadata": {
    "editable": false
   },
   "source": [
    "### 1.3.4 Question 1 continued\n",
    "- Why / why not are the accuracies the same?\n",
    "- How do we identify the best K? Suggest a computational procedure with a logical explanation."
   ]
  },
  {
   "cell_type": "markdown",
   "metadata": {},
   "source": [
    "---\n",
    "Your analysis here (double click to edit)\n",
    "\n",
    "---"
   ]
  },
  {
   "cell_type": "markdown",
   "metadata": {
    "editable": false
   },
   "source": [
    "### 1.3.4 Question 2 :  Reverse NN based outlier detection\n",
    "A sample can be thought of as an outlier is it is NOT in the nearest neighbour set of anybody else. Expand this idea into an algorithm."
   ]
  },
  {
   "cell_type": "code",
   "execution_count": 13,
   "metadata": {
    "editable": false
   },
   "outputs": [
    {
     "name": "stdout",
     "output_type": "stream",
     "text": [
      "(20, 784)\n"
     ]
    }
   ],
   "source": [
    "# This cell reads mixed data containing both MNIST digits and English characters.\n",
    "# The labels for this mixed data are random and are hence ignored.\n",
    "mixed_data, _ = read_data(\"outliers.csv\")\n",
    "print(mixed_data.shape)"
   ]
  },
  {
   "cell_type": "markdown",
   "metadata": {
    "editable": false
   },
   "source": [
    "### 1.3.4 Question 3 : NN for regression\n",
    "Assume that each classID in the train set corresponds to a neatness score as:\n",
    "$$ neatness = \\frac{classID}{10} $$\n",
    "\n",
    "---\n",
    "Assume we had to predict the neatness score for each test sample using NN based techiniques on the train set. Describe the algorithm."
   ]
  },
  {
   "cell_type": "markdown",
   "metadata": {},
   "source": [
    "---\n",
    "Your algorithm here (double click to edit)\n",
    "\n",
    "---"
   ]
  },
  {
   "cell_type": "markdown",
   "metadata": {
    "editable": false
   },
   "source": [
    "### 1.3.4 Question 3 continued\n",
    "Validate your algorithm on the test set. This code should print mean absolute error on the test set, using the train set for NN based regression."
   ]
  },
  {
   "cell_type": "code",
   "execution_count": 14,
   "metadata": {},
   "outputs": [],
   "source": [
    "# Your code here"
   ]
  },
  {
   "cell_type": "markdown",
   "metadata": {
    "editable": false
   },
   "source": [
    "---\n",
    "# FOLLOW THE SUBMISSION INSTRUCTIONS\n",
    "---"
   ]
  }
 ],
 "metadata": {
  "kernelspec": {
   "display_name": "Python 3",
   "language": "python",
   "name": "python3"
  },
  "language_info": {
   "codemirror_mode": {
    "name": "ipython",
    "version": 3
   },
   "file_extension": ".py",
   "mimetype": "text/x-python",
   "name": "python",
   "nbconvert_exporter": "python",
   "pygments_lexer": "ipython3",
   "version": "3.5.2"
  }
 },
 "nbformat": 4,
 "nbformat_minor": 2
}
