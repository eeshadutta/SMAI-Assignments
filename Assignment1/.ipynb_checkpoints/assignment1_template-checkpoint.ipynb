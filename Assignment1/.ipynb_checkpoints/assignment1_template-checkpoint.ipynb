{
 "cells": [
  {
   "cell_type": "markdown",
   "metadata": {
    "editable": false
   },
   "source": [
    "# Assignment 1\n",
    "This jupyter notebook is meant to be used in conjunction with the full questions in the assignment pdf.\n",
    "\n",
    "## Instructions\n",
    "- Write your code and analyses in the indicated cells.\n",
    "- Ensure that this notebook runs without errors when the cells are run in sequence.\n",
    "- Do not attempt to change the contents of the other cells.\n",
    "\n",
    "## Submission\n",
    "- Ensure that this notebook runs without errors when the cells are run in sequence.\n",
    "- Rename the notebook to `<roll_number>.ipynb` and submit ONLY the notebook file on moodle."
   ]
  },
  {
   "cell_type": "markdown",
   "metadata": {
    "editable": false
   },
   "source": [
    "### Environment setup\n",
    "\n",
    "The following code reads the train and test data (provided along with this template) and outputs the data and labels as numpy arrays. Use these variables in your code.\n",
    "\n",
    "---\n",
    "#### Note on conventions\n",
    "In mathematical notation, the convention is tha data matrices are column-indexed, which means that a input data $x$ has shape $[d, n]$, where $d$ is the number of dimensions and $n$ is the number of data points, respectively.\n",
    "\n",
    "Programming languages have a slightly different convention. Data matrices are of shape $[n, d]$. This has the benefit of being able to access the ith data point as a simple `data[i]`.\n",
    "\n",
    "What this means is that you need to be careful about your handling of matrix dimensions. For example, while the covariance matrix (of shape $[d,d]$) for input data $x$ is calculated as $(x-u)(x-u)^T$, while programming you would do $(x-u)^T(x-u)$ to get the correct output shapes."
   ]
  },
  {
   "cell_type": "code",
   "execution_count": 1,
   "metadata": {
    "editable": false,
    "scrolled": false
   },
   "outputs": [
    {
     "name": "stdout",
     "output_type": "stream",
     "text": [
      "(6000, 784) (1000, 784)\n",
      "(6000,) (1000,)\n"
     ]
    }
   ],
   "source": [
    "from __future__ import print_function\n",
    "\n",
    "import numpy as np\n",
    "import matplotlib.pyplot as plt\n",
    "\n",
    "def read_data(filename):\n",
    "    with open(filename, 'r') as f:\n",
    "        lines = f.readlines()\n",
    "    \n",
    "    num_points = len(lines)\n",
    "    dim_points = 28 * 28\n",
    "    data = np.empty((num_points, dim_points))\n",
    "    labels = np.empty(num_points)\n",
    "    \n",
    "    for ind, line in enumerate(lines):\n",
    "        num = line.split(',')\n",
    "        labels[ind] = int(num[0])\n",
    "        data[ind] = [ int(x) for x in num[1:] ]\n",
    "        \n",
    "    return (data, labels)\n",
    "\n",
    "train_data, train_labels = read_data(\"sample_train.csv\")\n",
    "test_data, test_labels = read_data(\"sample_test.csv\")\n",
    "print(train_data.shape, test_data.shape)\n",
    "print(train_labels.shape, test_labels.shape)"
   ]
  },
  {
   "cell_type": "markdown",
   "metadata": {
    "editable": false
   },
   "source": [
    "# Questions\n",
    "---\n",
    "## 1.3.1 Representation\n",
    "The next code cells, when run, should plot the eigen value spectrum of the covariance matrices corresponding to the mentioned samples. Normalize the eigen value spectrum and only show the first 100 values."
   ]
  },
  {
   "cell_type": "code",
   "execution_count": 2,
   "metadata": {},
   "outputs": [
    {
     "data": {
      "image/png": "[encoded data removed]",
      "text/plain": [
       "<Figure size 432x288 with 1 Axes>"
      ]
     },
     "metadata": {
      "needs_background": "light"
     },
     "output_type": "display_data"
    }
   ],
   "source": [
    "# Samples corresponding to the last digit of your roll number (plot a)\n",
    "from numpy import linalg as LA\n",
    "\n",
    "digit = 4\n",
    "new_train_data = []\n",
    "\n",
    "for i in range(train_data.shape[0]):\n",
    "    if (train_labels[i] == digit):\n",
    "        new_train_data.append(train_data[i])\n",
    "        \n",
    "cov = np.cov(new_train_data, rowvar=False)\n",
    "eig_vals, eig_vecs = LA.eigh(cov)\n",
    "max_eig_val = np.amax(eig_vals)\n",
    "norm_eig_vals = eig_vals / max_eig_val\n",
    "\n",
    "# rank = 0\n",
    "# for e in eig_vals:\n",
    "#     if e > 0:\n",
    "#         rank = rank + 1\n",
    "#         print(e)\n",
    "\n",
    "plt.bar((np.arange(100)), norm_eig_vals[-100:])\n",
    "plt.show()\n",
    "# print(rank)"
   ]
  },
  {
   "cell_type": "code",
   "execution_count": 3,
   "metadata": {},
   "outputs": [
    {
     "data": {
      "image/png": "[encoded data removed]",
      "text/plain": [
       "<Figure size 432x288 with 1 Axes>"
      ]
     },
     "metadata": {
      "needs_background": "light"
     },
     "output_type": "display_data"
    }
   ],
   "source": [
    "# Samples corresponding to the last digit of (your roll number + 1) % 10 (plot b)\n",
    "digit = 3\n",
    "new_train_data = []\n",
    "\n",
    "for i in range(train_data.shape[0]):\n",
    "    if (train_labels[i] == digit):\n",
    "        new_train_data.append(train_data[i])\n",
    "        \n",
    "cov = np.cov(new_train_data, rowvar=False)\n",
    "eig_vals, eig_vecs = LA.eigh(cov)\n",
    "max_eig_val = np.amax(eig_vals)\n",
    "norm_eig_vals = eig_vals / max_eig_val\n",
    "\n",
    "plt.bar((np.arange(100)), norm_eig_vals[-100:])\n",
    "plt.show()"
   ]
  },
  {
   "cell_type": "code",
   "execution_count": 4,
   "metadata": {},
   "outputs": [
    {
     "data": {
      "image/png": "[encoded data removed]",
      "text/plain": [
       "<Figure size 432x288 with 1 Axes>"
      ]
     },
     "metadata": {
      "needs_background": "light"
     },
     "output_type": "display_data"
    }
   ],
   "source": [
    "# All training data (plot c)\n",
    "cov = np.cov(train_data, rowvar=False)\n",
    "eig_vals, eig_vecs = LA.eigh(cov)\n",
    "max_eig_val = np.amax(eig_vals)\n",
    "norm_eig_vals = eig_vals / max_eig_val\n",
    "\n",
    "plt.bar((np.arange(100)), norm_eig_vals[-100:])\n",
    "plt.show()"
   ]
  },
  {
   "cell_type": "code",
   "execution_count": 5,
   "metadata": {},
   "outputs": [
    {
     "data": {
      "image/png": "[encoded data removed]",
      "text/plain": [
       "<Figure size 432x288 with 1 Axes>"
      ]
     },
     "metadata": {
      "needs_background": "light"
     },
     "output_type": "display_data"
    }
   ],
   "source": [
    "# Randomly selected 50% of the training data (plot d)\n",
    "new_train_data = train_data[np.random.choice(train_data.shape[0], size=3000, replace=False), :]\n",
    "cov = np.cov(new_train_data, rowvar=False)\n",
    "eig_vals, eig_vecs = LA.eigh(cov)\n",
    "max_eig_val = np.amax(eig_vals)\n",
    "norm_eig_vals = eig_vals / max_eig_val\n",
    "\n",
    "plt.bar((np.arange(100)), norm_eig_vals[-100:])\n",
    "plt.show()"
   ]
  },
  {
   "cell_type": "markdown",
   "metadata": {
    "editable": false
   },
   "source": [
    "### 1.3.1 Question 1\n",
    "- Are plots a and b different? Why?\n",
    "- Are plots b and c different? Why?\n",
    "- What are the approximate ranks of each plot?"
   ]
  },
  {
   "cell_type": "markdown",
   "metadata": {},
   "source": [
    "---\n",
    "Your answers here (double click to edit)\n",
    "1. No, plots a and b are not very different since they contain samples of the same class.\n",
    "2. Plots b and c are differnt because b contains the eign value spectrum of samples belonging to one class whereas c contains eigen value spectrum of samples belonging to all class leading to more variance.\n",
    "3. \n",
    "---"
   ]
  },
  {
   "cell_type": "markdown",
   "metadata": {
    "editable": false
   },
   "source": [
    "### 1.3.1 Question 2\n",
    "- How many possible images could there be?\n",
    "- What percentage is accessible to us as MNIST data?\n",
    "- If we had acces to all the data, how would the eigen value spectrum of the covariance matrix look?"
   ]
  },
  {
   "cell_type": "markdown",
   "metadata": {},
   "source": [
    "---\n",
    "Your answers here (double click to edit)\n",
    "1. For every pixel, we can have 2 values. And there are 784 pixels. So total possible images = 2 ^ 784\n",
    "2. Approximately 0% is available to us.\n",
    "3. There would be distribution in all directions. So we would have eigen vectors in all directions and approximately same valued eigen values. So, in the eigen value spectrum, all values would be approximately 1 after normalizing.\n",
    "---"
   ]
  },
  {
   "cell_type": "markdown",
   "metadata": {
    "editable": false
   },
   "source": [
    "## 1.3.2 Linear Transformation\n",
    "---\n",
    "### 1.3.2 Question 1\n",
    "How does the eigen spectrum change if the original data was multiplied by an orthonormal matrix? Answer analytically and then also validate experimentally."
   ]
  },
  {
   "cell_type": "markdown",
   "metadata": {},
   "source": [
    "---\n",
    "Analytical answer here (double click to edit)\n",
    "\n",
    "Multiplying by an orthonormal matrix results in rotation of the data which results in rotation of the eigen vectors while preserving the lengths and angles between them. There is no change in the eigen values, so even the eigen spectrum does not change.\n",
    " \n",
    "---"
   ]
  },
  {
   "cell_type": "code",
   "execution_count": 6,
   "metadata": {},
   "outputs": [
    {
     "data": {
      "image/png": "[encoded data removed]",
      "text/plain": [
       "<Figure size 432x288 with 1 Axes>"
      ]
     },
     "metadata": {
      "needs_background": "light"
     },
     "output_type": "display_data"
    }
   ],
   "source": [
    "# Experimental validation here.\n",
    "# Multiply your data (train_data) with an orthonormal matrix and plot the\n",
    "# eigen value specturm of the new covariance matrix.\n",
    "\n",
    "# code goes here\n",
    "from scipy.stats import ortho_group\n",
    "\n",
    "ortho_norm = ortho_group.rvs(dim = 784)\n",
    "cov = np.cov(np.matmul(train_data, ortho_norm), rowvar=False)\n",
    "eig_vals, eig_vecs = LA.eigh(cov)\n",
    "max_eig_val = np.amax(eig_vals)\n",
    "norm_eig_vals = eig_vals / max_eig_val\n",
    "\n",
    "plt.bar((np.arange(100)), norm_eig_vals[-100:])\n",
    "plt.show()"
   ]
  },
  {
   "cell_type": "markdown",
   "metadata": {
    "editable": false
   },
   "source": [
    "### 1.3.2 Question 2\n",
    "If  samples  were  multiplied  by  784 × 784  matrix  of rank 1 or 2, (rank deficient matrices), how will the eigen spectrum look like?"
   ]
  },
  {
   "cell_type": "markdown",
   "metadata": {},
   "source": [
    "---\n",
    "Your answer here (double click to edit)\n",
    "\n",
    "A matrix of rank 1/2 has only one/two independent vector. There are non-zero values in only one/two rows. When we multiply our original data matrix with such a matrix, there will be non-zero values in only one/two columns of the resultant matrix. Which means that the data will be spread along only one/two dimensions. Eigen values give the spread of data. So, we will have one/two eigen values only in the eigen spectrum. \n",
    "\n",
    "---"
   ]
  },
  {
   "cell_type": "markdown",
   "metadata": {
    "editable": false
   },
   "source": [
    "### 1.3.2 Question 3\n",
    "Project the original data into the first and second eigenvectors and plot in 2D"
   ]
  },
  {
   "cell_type": "code",
   "execution_count": 12,
   "metadata": {},
   "outputs": [
    {
     "data": {
      "image/png": "[encoded data removed]",
      "text/plain": [
       "<Figure size 432x288 with 1 Axes>"
      ]
     },
     "metadata": {
      "needs_background": "light"
     },
     "output_type": "display_data"
    }
   ],
   "source": [
    "# Plotting code here\n",
    "cov = np.cov(train_data, rowvar=False)\n",
    "eig_vals, eig_vecs = LA.eigh(cov)\n",
    "idx = eig_vals.argsort()[::-1] \n",
    "eig_vals = eig_vals[idx]\n",
    "eig_vecs = eig_vecs[:,idx]\n",
    "\n",
    "vec1 = eig_vecs[:, 0]\n",
    "vec2 = eig_vecs[:, 1]\n",
    "\n",
    "dim1 = np.matmul(train_data, vec1)\n",
    "dim2 = np.matmul(train_data, vec2)\n",
    "plt.scatter(dim1, dim2)\n",
    "plt.show()"
   ]
  },
  {
   "cell_type": "markdown",
   "metadata": {
    "editable": false
   },
   "source": [
    "## 1.3.3 Probabilistic View\n",
    "---\n",
    "In this section you will classify the test set by fitting multivariate gaussians on the train set, with different choices for decision boundaries. On running, your code should print the accuracy on your test set."
   ]
  },
  {
   "cell_type": "code",
   "execution_count": 8,
   "metadata": {},
   "outputs": [],
   "source": [
    "# Print accuracy on the test set using MLE"
   ]
  },
  {
   "cell_type": "code",
   "execution_count": 9,
   "metadata": {},
   "outputs": [],
   "source": [
    "# Print accuracy on the test set using MAP\n",
    "# (assume a reasonable prior and mention it in the comments)"
   ]
  },
  {
   "cell_type": "code",
   "execution_count": 10,
   "metadata": {},
   "outputs": [],
   "source": [
    "# Print accuracy using Bayesian pairwise majority voting method"
   ]
  },
  {
   "cell_type": "code",
   "execution_count": 11,
   "metadata": {},
   "outputs": [],
   "source": [
    "# Print accuracy using Simple Perpendicular Bisector majority voting method"
   ]
  },
  {
   "cell_type": "markdown",
   "metadata": {
    "editable": false
   },
   "source": [
    "### 1.3.3 Question 4\n",
    "Compare performances and salient observations"
   ]
  },
  {
   "cell_type": "markdown",
   "metadata": {},
   "source": [
    "---\n",
    "Your analysis here (double click to edit)\n",
    "\n",
    "---"
   ]
  },
  {
   "cell_type": "markdown",
   "metadata": {
    "editable": false
   },
   "source": [
    "## 1.3.4 Nearest Neighbour based Tasks and Design\n",
    "---\n",
    "### 1.3.4 Question 1 : NN Classification with various K\n",
    "Implement a KNN classifier and print accuracies on the test set with K=1,3,7"
   ]
  },
  {
   "cell_type": "code",
   "execution_count": 7,
   "metadata": {
    "scrolled": true
   },
   "outputs": [
    {
     "name": "stdout",
     "output_type": "stream",
     "text": [
      "Accuracy for k = 1 is  90.7\n",
      "Accuracy for k = 3 is  91.60000000000001\n",
      "Accuracy for k = 7 is  91.60000000000001\n"
     ]
    }
   ],
   "source": [
    "# Your code here\n",
    "# Print accuracies with K = 1, 3, 7\n",
    "num_data = test_data.shape[0]\n",
    "k1_ans = np.empty(num_data)\n",
    "k3_ans = np.empty(num_data)\n",
    "k7_ans = np.empty(num_data)\n",
    "\n",
    "for i in range(0, num_data):\n",
    "    diff_test_data = np.square(train_data - test_data[i])\n",
    "    norm = np.sum(diff_test_data, axis=1).tolist()\n",
    "    norm = np.asarray(norm)\n",
    "    norm = np.sqrt(norm)\n",
    "    \n",
    "    idx = norm.argsort()[::1]   \n",
    "    norm = norm[idx]\n",
    "    sorted_labels = train_labels[idx]\n",
    "    \n",
    "    k1_ans[i] = sorted_labels[0]\n",
    "    \n",
    "    f3 = dict((d, 0) for d in range(0,10))\n",
    "    for j in range(0, 3):\n",
    "        f3[sorted_labels[j]] = f3[sorted_labels[j]] + 1\n",
    "    f3 = sorted(f3, key=f3.get, reverse=True)\n",
    "    k3_ans[i] = f3[0]\n",
    "    \n",
    "    f7 = dict((d, 0) for d in range(0,10))\n",
    "    for j in range(0, 7):\n",
    "        f7[sorted_labels[j]] = f7[sorted_labels[j]] + 1\n",
    "    f7= sorted(f7, key=f7.get, reverse=True)\n",
    "    k7_ans[i] = f7[0]\n",
    "    \n",
    "c1 = 0\n",
    "for i in range(0, num_data):\n",
    "    if k1_ans[i] == test_labels[i]:\n",
    "        c1 = c1 + 1\n",
    "acc1 = (c1 / float(num_data)) * 100\n",
    "print(\"Accuracy for k = 1 is \", acc1)\n",
    "\n",
    "c3 = 0\n",
    "for i in range(0, num_data):\n",
    "    if k3_ans[i] == test_labels[i]:\n",
    "        c3 = c3 + 1\n",
    "acc3 = (c3 / float(num_data)) * 100\n",
    "print(\"Accuracy for k = 3 is \", acc3)\n",
    "\n",
    "c7 = 0\n",
    "for i in range(0, num_data):\n",
    "    if k7_ans[i] == test_labels[i]:\n",
    "        c7 = c7 + 1\n",
    "acc7 = (c7 / float(num_data)) * 100\n",
    "print(\"Accuracy for k = 7 is \", acc7)"
   ]
  },
  {
   "cell_type": "markdown",
   "metadata": {
    "editable": false
   },
   "source": [
    "### 1.3.4 Question 1 continued\n",
    "- Why / why not are the accuracies the same?\n",
    "- How do we identify the best K? Suggest a computational procedure with a logical explanation."
   ]
  },
  {
   "cell_type": "markdown",
   "metadata": {},
   "source": [
    "---\n",
    "Your analysis here (double click to edit)\n",
    "\n",
    "---"
   ]
  },
  {
   "cell_type": "markdown",
   "metadata": {
    "editable": false
   },
   "source": [
    "### 1.3.4 Question 2 :  Reverse NN based outlier detection\n",
    "A sample can be thought of as an outlier is it is NOT in the nearest neighbour set of anybody else. Expand this idea into an algorithm."
   ]
  },
  {
   "cell_type": "code",
   "execution_count": 13,
   "metadata": {
    "editable": false
   },
   "outputs": [
    {
     "name": "stdout",
     "output_type": "stream",
     "text": [
      "(20, 784)\n"
     ]
    }
   ],
   "source": [
    "# This cell reads mixed data containing both MNIST digits and English characters.\n",
    "# The labels for this mixed data are random and are hence ignored.\n",
    "mixed_data, _ = read_data(\"outliers.csv\")\n",
    "print(mixed_data.shape)"
   ]
  },
  {
   "cell_type": "markdown",
   "metadata": {
    "editable": false
   },
   "source": [
    "### 1.3.4 Question 3 : NN for regression\n",
    "Assume that each classID in the train set corresponds to a neatness score as:\n",
    "$$ neatness = \\frac{classID}{10} $$\n",
    "\n",
    "---\n",
    "Assume we had to predict the neatness score for each test sample using NN based techiniques on the train set. Describe the algorithm."
   ]
  },
  {
   "cell_type": "markdown",
   "metadata": {},
   "source": [
    "---\n",
    "Your algorithm here (double click to edit)\n",
    "1. Assign a neatness score to all the train and test labels according to the given formula. Assign a range to each class.\n",
    "2. For every test point, compute ditance from all points and sort.\n",
    "3. Select the k nearest neighbours.\n",
    "4. Divide the label value of each of the k nearest neighbours by their corresponding distances to have a weighted distribution.\n",
    "5. Sum the values to find the label of the test sample.\n",
    "\n",
    "---"
   ]
  },
  {
   "cell_type": "markdown",
   "metadata": {
    "editable": false
   },
   "source": [
    "### 1.3.4 Question 3 continued\n",
    "Validate your algorithm on the test set. This code should print mean absolute error on the test set, using the train set for NN based regression."
   ]
  },
  {
   "cell_type": "code",
   "execution_count": 23,
   "metadata": {},
   "outputs": [
    {
     "name": "stdout",
     "output_type": "stream",
     "text": [
      "Mean absolute error =  0.05636793566710551\n"
     ]
    }
   ],
   "source": [
    "# Your code here\n",
    "new_train_labels = train_labels / float(10)\n",
    "new_test_labels = test_labels / float(10)\n",
    "num_data = test_data.shape[0]\n",
    "k_ans = np.empty(num_data)\n",
    "\n",
    "for i in range(0, num_data):\n",
    "    diff_test_data = np.square(train_data - test_data[i])\n",
    "    norm = np.sum(diff_test_data, axis=1).tolist()\n",
    "    norm = np.asarray(norm)\n",
    "    norm = np.sqrt(norm)\n",
    "    \n",
    "    idx = norm.argsort()[::1]   \n",
    "    norm = norm[idx]\n",
    "    sorted_labels = new_train_labels[idx]\n",
    "    \n",
    "    k = 3\n",
    "    neatness = 0\n",
    "    for j in range(0, k):\n",
    "        norm[j] = norm[j] / float(norm[k-1])\n",
    "        neatness = neatness + (sorted_labels[j] / float(norm[j]))\n",
    "    neatness = neatness / float(k)\n",
    "    k_ans[i] = neatness\n",
    "    \n",
    "err = 0\n",
    "for i in range(0, num_data):\n",
    "    err = err + abs(k_ans[i] - new_test_labels[i])\n",
    "err = err / float(num_data)\n",
    "print(\"Mean absolute error = \", err)"
   ]
  },
  {
   "cell_type": "markdown",
   "metadata": {
    "editable": false
   },
   "source": [
    "---\n",
    "# FOLLOW THE SUBMISSION INSTRUCTIONS\n",
    "---"
   ]
  }
 ],
 "metadata": {
  "kernelspec": {
   "display_name": "Python 3",
   "language": "python",
   "name": "python3"
  },
  "language_info": {
   "codemirror_mode": {
    "name": "ipython",
    "version": 3
   },
   "file_extension": ".py",
   "mimetype": "text/x-python",
   "name": "python",
   "nbconvert_exporter": "python",
   "pygments_lexer": "ipython3",
   "version": "3.5.2"
  }
 },
 "nbformat": 4,
 "nbformat_minor": 2
}
