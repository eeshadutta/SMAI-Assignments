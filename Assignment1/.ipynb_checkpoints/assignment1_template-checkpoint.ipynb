{
 "cells": [
  {
   "cell_type": "markdown",
   "metadata": {
    "editable": false
   },
   "source": [
    "# Assignment 1\n",
    "This jupyter notebook is meant to be used in conjunction with the full questions in the assignment pdf.\n",
    "\n",
    "## Instructions\n",
    "- Write your code and analyses in the indicated cells.\n",
    "- Ensure that this notebook runs without errors when the cells are run in sequence.\n",
    "- Do not attempt to change the contents of the other cells.\n",
    "\n",
    "## Submission\n",
    "- Ensure that this notebook runs without errors when the cells are run in sequence.\n",
    "- Rename the notebook to `<roll_number>.ipynb` and submit ONLY the notebook file on moodle."
   ]
  },
  {
   "cell_type": "markdown",
   "metadata": {
    "editable": false
   },
   "source": [
    "### Environment setup\n",
    "\n",
    "The following code reads the train and test data (provided along with this template) and outputs the data and labels as numpy arrays. Use these variables in your code.\n",
    "\n",
    "---\n",
    "#### Note on conventions\n",
    "In mathematical notation, the convention is tha data matrices are column-indexed, which means that a input data $x$ has shape $[d, n]$, where $d$ is the number of dimensions and $n$ is the number of data points, respectively.\n",
    "\n",
    "Programming languages have a slightly different convention. Data matrices are of shape $[n, d]$. This has the benefit of being able to access the ith data point as a simple `data[i]`.\n",
    "\n",
    "What this means is that you need to be careful about your handling of matrix dimensions. For example, while the covariance matrix (of shape $[d,d]$) for input data $x$ is calculated as $(x-u)(x-u)^T$, while programming you would do $(x-u)^T(x-u)$ to get the correct output shapes."
   ]
  },
  {
   "cell_type": "code",
   "execution_count": 1,
   "metadata": {
    "editable": false,
    "scrolled": false
   },
   "outputs": [
    {
     "name": "stdout",
     "output_type": "stream",
     "text": [
      "(6000, 784) (1000, 784)\n",
      "(6000,) (1000,)\n"
     ]
    }
   ],
   "source": [
    "from __future__ import print_function\n",
    "\n",
    "import numpy as np\n",
    "import matplotlib.pyplot as plt\n",
    "\n",
    "def read_data(filename):\n",
    "    with open(filename, 'r') as f:\n",
    "        lines = f.readlines()\n",
    "    \n",
    "    num_points = len(lines)\n",
    "    dim_points = 28 * 28\n",
    "    data = np.empty((num_points, dim_points))\n",
    "    labels = np.empty(num_points)\n",
    "    \n",
    "    for ind, line in enumerate(lines):\n",
    "        num = line.split(',')\n",
    "        labels[ind] = int(num[0])\n",
    "        data[ind] = [ int(x) for x in num[1:] ]\n",
    "        \n",
    "    return (data, labels)\n",
    "\n",
    "train_data, train_labels = read_data(\"sample_train.csv\")\n",
    "test_data, test_labels = read_data(\"sample_test.csv\")\n",
    "print(train_data.shape, test_data.shape)\n",
    "print(train_labels.shape, test_labels.shape)"
   ]
  },
  {
   "cell_type": "markdown",
   "metadata": {
    "editable": false
   },
   "source": [
    "# Questions\n",
    "---\n",
    "## 1.3.1 Representation\n",
    "The next code cells, when run, should plot the eigen value spectrum of the covariance matrices corresponding to the mentioned samples. Normalize the eigen value spectrum and only show the first 100 values."
   ]
  },
  {
   "cell_type": "code",
   "execution_count": 36,
   "metadata": {},
   "outputs": [
    {
     "name": "stdout",
     "output_type": "stream",
     "text": [
      "677\n"
     ]
    },
    {
     "data": {
      "image/png": "[encoded data removed]",
      "text/plain": [
       "<Figure size 432x288 with 1 Axes>"
      ]
     },
     "metadata": {
      "needs_background": "light"
     },
     "output_type": "display_data"
    }
   ],
   "source": [
    "# Samples corresponding to the last digit of your roll number (plot a)\n",
    "from numpy import linalg as LA\n",
    "\n",
    "digit = 4\n",
    "new_train_data = []\n",
    "\n",
    "for i in range(train_data.shape[0]):\n",
    "    if (train_labels[i] == digit):\n",
    "        new_train_data.append(train_data[i])\n",
    "        \n",
    "cov = np.cov(new_train_data, rowvar=False)\n",
    "eig_vals, eig_vecs = LA.eigh(cov)\n",
    "max_eig_val = np.amax(eig_vals)\n",
    "norm_eig_vals = eig_vals / max_eig_val\n",
    "\n",
    "rank = 0\n",
    "for e in eig_vals:\n",
    "    if e != 0:\n",
    "        rank = rank + 1\n",
    "print(rank)\n",
    "\n",
    "plt.bar((np.arange(100)), norm_eig_vals[-100:])\n",
    "plt.show()"
   ]
  },
  {
   "cell_type": "code",
   "execution_count": 37,
   "metadata": {},
   "outputs": [
    {
     "name": "stdout",
     "output_type": "stream",
     "text": [
      "661\n"
     ]
    },
    {
     "data": {
      "image/png": "[encoded data removed]",
      "text/plain": [
       "<Figure size 432x288 with 1 Axes>"
      ]
     },
     "metadata": {
      "needs_background": "light"
     },
     "output_type": "display_data"
    }
   ],
   "source": [
    "# Samples corresponding to the last digit of (your roll number + 1) % 10 (plot b)\n",
    "digit = 3\n",
    "new_train_data = []\n",
    "\n",
    "for i in range(train_data.shape[0]):\n",
    "    if (train_labels[i] == digit):\n",
    "        new_train_data.append(train_data[i])\n",
    "        \n",
    "cov = np.cov(new_train_data, rowvar=False)\n",
    "eig_vals, eig_vecs = LA.eigh(cov)\n",
    "max_eig_val = np.amax(eig_vals)\n",
    "norm_eig_vals = eig_vals / max_eig_val\n",
    "\n",
    "rank = 0\n",
    "for e in eig_vals:\n",
    "    if e != 0:\n",
    "        rank = rank + 1\n",
    "print(rank)\n",
    "\n",
    "plt.bar((np.arange(100)), norm_eig_vals[-100:])\n",
    "plt.show()"
   ]
  },
  {
   "cell_type": "code",
   "execution_count": 38,
   "metadata": {},
   "outputs": [
    {
     "name": "stdout",
     "output_type": "stream",
     "text": [
      "744\n"
     ]
    },
    {
     "data": {
      "image/png": "[encoded data removed]",
      "text/plain": [
       "<Figure size 432x288 with 1 Axes>"
      ]
     },
     "metadata": {
      "needs_background": "light"
     },
     "output_type": "display_data"
    }
   ],
   "source": [
    "# All training data (plot c)\n",
    "cov = np.cov(train_data, rowvar=False)\n",
    "eig_vals, eig_vecs = LA.eigh(cov)\n",
    "max_eig_val = np.amax(eig_vals)\n",
    "norm_eig_vals = eig_vals / max_eig_val\n",
    "\n",
    "rank = 0\n",
    "for e in eig_vals:\n",
    "    if e != 0:\n",
    "        rank = rank + 1\n",
    "print(rank)\n",
    "\n",
    "plt.bar((np.arange(100)), norm_eig_vals[-100:])\n",
    "plt.show()"
   ]
  },
  {
   "cell_type": "code",
   "execution_count": 39,
   "metadata": {},
   "outputs": [
    {
     "name": "stdout",
     "output_type": "stream",
     "text": [
      "743\n"
     ]
    },
    {
     "data": {
      "image/png": "[encoded data removed]",
      "text/plain": [
       "<Figure size 432x288 with 1 Axes>"
      ]
     },
     "metadata": {
      "needs_background": "light"
     },
     "output_type": "display_data"
    }
   ],
   "source": [
    "# Randomly selected 50% of the training data (plot d)\n",
    "new_train_data = train_data[np.random.choice(train_data.shape[0], size=3000, replace=False), :]\n",
    "cov = np.cov(new_train_data, rowvar=False)\n",
    "eig_vals, eig_vecs = LA.eigh(cov)\n",
    "max_eig_val = np.amax(eig_vals)\n",
    "norm_eig_vals = eig_vals / max_eig_val\n",
    "\n",
    "rank = 0\n",
    "for e in eig_vals:\n",
    "    if e != 0:\n",
    "        rank = rank + 1\n",
    "print(rank)\n",
    "\n",
    "plt.bar((np.arange(100)), norm_eig_vals[-100:])\n",
    "plt.show()"
   ]
  },
  {
   "cell_type": "markdown",
   "metadata": {
    "editable": false
   },
   "source": [
    "### 1.3.1 Question 1\n",
    "- Are plots a and b different? Why?\n",
    "- Are plots b and c different? Why?\n",
    "- What are the approximate ranks of each plot?"
   ]
  },
  {
   "cell_type": "markdown",
   "metadata": {},
   "source": [
    "---\n",
    "Your answers here (double click to edit)\n",
    "1. No, plots a and b are not very different since they contain samples of the same class.\n",
    "2. Plots b and c are differnt because b contains the eign value spectrum of samples belonging to one class whereas c contains eigen value spectrum of samples belonging to all class leading to more variance.\n",
    "3. Ranks: a->677; b->661; c->744; d->743. This is because plots c and d contain data from all classes and thus the distribution of samples are in more directions as compared to a and b.\n",
    "---"
   ]
  },
  {
   "cell_type": "markdown",
   "metadata": {
    "editable": false
   },
   "source": [
    "### 1.3.1 Question 2\n",
    "- How many possible images could there be?\n",
    "- What percentage is accessible to us as MNIST data?\n",
    "- If we had acces to all the data, how would the eigen value spectrum of the covariance matrix look?"
   ]
  },
  {
   "cell_type": "markdown",
   "metadata": {},
   "source": [
    "---\n",
    "Your answers here (double click to edit)\n",
    "1. For every pixel, we can have 2 values. And there are 784 pixels. So total possible images = 2 ^ 784\n",
    "2. Approximately 10^-200% which is almost 0% is available to us.\n",
    "3. There would be distribution in all directions. So we would have eigen vectors in all directions and approximately same valued eigen values. So, in the eigen value spectrum, all values would be approximately 1 after normalizing.\n",
    "---"
   ]
  },
  {
   "cell_type": "markdown",
   "metadata": {
    "editable": false
   },
   "source": [
    "## 1.3.2 Linear Transformation\n",
    "---\n",
    "### 1.3.2 Question 1\n",
    "How does the eigen spectrum change if the original data was multiplied by an orthonormal matrix? Answer analytically and then also validate experimentally."
   ]
  },
  {
   "cell_type": "markdown",
   "metadata": {},
   "source": [
    "---\n",
    "Analytical answer here (double click to edit)\n",
    "\n",
    "Multiplying by an orthonormal matrix results in rotation of the entire data which results in rotation of the eigen vectors while preserving the lengths and angles between them. There is no change in the eigen values, hence even the eigen spectrum does not change.\n",
    " \n",
    "---"
   ]
  },
  {
   "cell_type": "code",
   "execution_count": 5,
   "metadata": {},
   "outputs": [
    {
     "data": {
      "image/png": "[encoded data removed]",
      "text/plain": [
       "<Figure size 432x288 with 1 Axes>"
      ]
     },
     "metadata": {
      "needs_background": "light"
     },
     "output_type": "display_data"
    }
   ],
   "source": [
    "# Experimental validation here.\n",
    "# Multiply your data (train_data) with an orthonormal matrix and plot the\n",
    "# eigen value specturm of the new covariance matrix.\n",
    "\n",
    "# code goes here\n",
    "H = np.random.randn(784, 784)\n",
    "Q, R = LA.qr(H)\n",
    "ortho_norm = (Q.dot(Q.T))\n",
    "cov = np.cov(np.matmul(train_data, ortho_norm), rowvar=False)\n",
    "eig_vals, eig_vecs = LA.eigh(cov)\n",
    "max_eig_val = np.amax(eig_vals)\n",
    "norm_eig_vals = eig_vals / max_eig_val\n",
    "\n",
    "plt.bar((np.arange(100)), norm_eig_vals[-100:])\n",
    "plt.show()"
   ]
  },
  {
   "cell_type": "markdown",
   "metadata": {
    "editable": false
   },
   "source": [
    "### 1.3.2 Question 2\n",
    "If  samples  were  multiplied  by  784 × 784  matrix  of rank 1 or 2, (rank deficient matrices), how will the eigen spectrum look like?"
   ]
  },
  {
   "cell_type": "markdown",
   "metadata": {},
   "source": [
    "---\n",
    "Your answer here (double click to edit)\n",
    "\n",
    "A matrix of rank 1/2 has only one/two independent vector. There are non-zero values in only one/two rows. When we multiply our original data matrix with such a matrix, there will be non-zero values in only one/two columns of the resultant matrix. Which means that the data will be spread along only one/two dimensions. Eigen values give the spread of data. So, we will have one/two eigen values only in the eigen spectrum. \n",
    "\n",
    "---"
   ]
  },
  {
   "cell_type": "markdown",
   "metadata": {
    "editable": false
   },
   "source": [
    "### 1.3.2 Question 3\n",
    "Project the original data into the first and second eigenvectors and plot in 2D"
   ]
  },
  {
   "cell_type": "code",
   "execution_count": 9,
   "metadata": {},
   "outputs": [
    {
     "data": {
      "image/png": "[encoded data removed]",
      "text/plain": [
       "<Figure size 432x288 with 1 Axes>"
      ]
     },
     "metadata": {
      "needs_background": "light"
     },
     "output_type": "display_data"
    }
   ],
   "source": [
    "# Plotting code here\n",
    "cov = np.cov(train_data, rowvar=False)\n",
    "eig_vals, eig_vecs = LA.eigh(cov)\n",
    "idx = eig_vals.argsort()[::-1] \n",
    "eig_vals = eig_vals[idx]\n",
    "eig_vecs = eig_vecs[:,idx]\n",
    "\n",
    "vec1 = eig_vecs[:, 0]\n",
    "vec2 = eig_vecs[:, 1]\n",
    "\n",
    "dim1 = np.matmul(train_data, vec1)\n",
    "dim2 = np.matmul(train_data, vec2)\n",
    "plt.scatter(dim1, dim2, s=2)\n",
    "plt.show()"
   ]
  },
  {
   "cell_type": "markdown",
   "metadata": {
    "editable": false
   },
   "source": [
    "## 1.3.3 Probabilistic View\n",
    "---\n",
    "In this section you will classify the test set by fitting multivariate gaussians on the train set, with different choices for decision boundaries. On running, your code should print the accuracy on your test set."
   ]
  },
  {
   "cell_type": "code",
   "execution_count": 35,
   "metadata": {},
   "outputs": [
    {
     "name": "stdout",
     "output_type": "stream",
     "text": [
      "Accuracy of MLE = 94.8\n"
     ]
    }
   ],
   "source": [
    "# Print accuracy on the test set using MLE\n",
    "cov = np.cov(train_data, rowvar=False)\n",
    "eig_vals, eig_vecs = LA.eigh(cov)\n",
    "idx = eig_vals.argsort()[::-1] \n",
    "eig_vals = eig_vals[idx]\n",
    "eig_vecs = eig_vecs[:,idx]\n",
    "new_train_data = np.empty((6000,0))\n",
    "new_test_data = np.empty((1000,0))\n",
    "num_dim = 30\n",
    "for i in range(num_dim):\n",
    "    vec = eig_vecs[:, i]\n",
    "    dim = np.matmul(train_data, vec)\n",
    "    new_train_data = np.column_stack((new_train_data, dim))\n",
    "    dim = np.matmul(test_data, vec)\n",
    "    new_test_data = np.column_stack((new_test_data, dim))\n",
    "\n",
    "train_data0 = np.empty((0,num_dim))\n",
    "train_data1 = np.empty((0,num_dim))\n",
    "train_data2 = np.empty((0,num_dim))\n",
    "train_data3 = np.empty((0,num_dim))\n",
    "train_data4 = np.empty((0,num_dim))\n",
    "train_data5 = np.empty((0,num_dim))\n",
    "train_data6 = np.empty((0,num_dim))\n",
    "train_data7 = np.empty((0,num_dim))\n",
    "train_data8 = np.empty((0,num_dim))\n",
    "train_data9 = np.empty((0,num_dim))\n",
    "\n",
    "for i in range(train_data.shape[0]):\n",
    "    if train_labels[i] == 0:\n",
    "        train_data0 = np.vstack([train_data0, new_train_data[i]])\n",
    "    if train_labels[i] == 1:\n",
    "        train_data1 = np.vstack([train_data1, new_train_data[i]])\n",
    "    if train_labels[i] == 2:\n",
    "        train_data2 = np.vstack([train_data2, new_train_data[i]])\n",
    "    if train_labels[i] == 3:\n",
    "        train_data3 = np.vstack([train_data3, new_train_data[i]])\n",
    "    if train_labels[i] == 4:\n",
    "        train_data4 = np.vstack([train_data4, new_train_data[i]])\n",
    "    if train_labels[i] == 5:\n",
    "        train_data5 = np.vstack([train_data5, new_train_data[i]])\n",
    "    if train_labels[i] == 6:\n",
    "        train_data6 = np.vstack([train_data6, new_train_data[i]])\n",
    "    if train_labels[i] == 7:\n",
    "        train_data7 = np.vstack([train_data7, new_train_data[i]])\n",
    "    if train_labels[i] == 8:\n",
    "        train_data8 = np.vstack([train_data8, new_train_data[i]])\n",
    "    if train_labels[i] == 9:\n",
    "        train_data9 = np.vstack([train_data9, new_train_data[i]])\n",
    "\n",
    "mean0 = np.mean(train_data0, axis=0)\n",
    "mean1 = np.mean(train_data1, axis=0)\n",
    "mean2 = np.mean(train_data2, axis=0)\n",
    "mean3 = np.mean(train_data3, axis=0)\n",
    "mean4 = np.mean(train_data4, axis=0)\n",
    "mean5 = np.mean(train_data5, axis=0)\n",
    "mean6 = np.mean(train_data6, axis=0)\n",
    "mean7 = np.mean(train_data7, axis=0)\n",
    "mean8 = np.mean(train_data8, axis=0)\n",
    "mean9 = np.mean(train_data9, axis=0)\n",
    "\n",
    "cov0 = np.cov(train_data0, rowvar=False)\n",
    "cov1 = np.cov(train_data1, rowvar=False)\n",
    "cov2 = np.cov(train_data2, rowvar=False)\n",
    "cov3 = np.cov(train_data3, rowvar=False)\n",
    "cov4 = np.cov(train_data4, rowvar=False)\n",
    "cov5 = np.cov(train_data5, rowvar=False)\n",
    "cov6 = np.cov(train_data6, rowvar=False)\n",
    "cov7 = np.cov(train_data7, rowvar=False)\n",
    "cov8 = np.cov(train_data8, rowvar=False)\n",
    "cov9 = np.cov(train_data9, rowvar=False)\n",
    "\n",
    "det0 = np.sqrt(LA.det(cov0))\n",
    "det1 = np.sqrt(LA.det(cov1))\n",
    "det2 = np.sqrt(LA.det(cov2))\n",
    "det3 = np.sqrt(LA.det(cov3))\n",
    "det4 = np.sqrt(LA.det(cov4))\n",
    "det5 = np.sqrt(LA.det(cov5))\n",
    "det6 = np.sqrt(LA.det(cov6))\n",
    "det7 = np.sqrt(LA.det(cov7))\n",
    "det8 = np.sqrt(LA.det(cov8))\n",
    "det9 = np.sqrt(LA.det(cov9))\n",
    "\n",
    "inv0 = LA.inv(cov0)\n",
    "inv1 = LA.inv(cov1)\n",
    "inv2 = LA.inv(cov2)\n",
    "inv3 = LA.inv(cov3)\n",
    "inv4 = LA.inv(cov4)\n",
    "inv5 = LA.inv(cov5)\n",
    "inv6 = LA.inv(cov6)\n",
    "inv7 = LA.inv(cov7)\n",
    "inv8 = LA.inv(cov8)\n",
    "inv9 = LA.inv(cov9)\n",
    "\n",
    "ans = np.empty(test_data.shape[0])\n",
    "\n",
    "for i in range(test_data.shape[0]):\n",
    "    exp = -(np.matmul(np.matmul(new_test_data[i]-mean0, inv0), np.transpose(new_test_data[i]-mean0))) / 2\n",
    "    p0 = np.exp(exp) / det0\n",
    "    exp = -(np.matmul(np.matmul(new_test_data[i]-mean1, inv1), np.transpose(new_test_data[i]-mean1))) / 2\n",
    "    p1 = np.exp(exp) / det1\n",
    "    exp = -(np.matmul(np.matmul(new_test_data[i]-mean2, inv2), np.transpose(new_test_data[i]-mean2))) / 2\n",
    "    p2 = np.exp(exp) / det2\n",
    "    exp = -(np.matmul(np.matmul(new_test_data[i]-mean3, inv3), np.transpose(new_test_data[i]-mean3))) / 2\n",
    "    p3 = np.exp(exp) / det3\n",
    "    exp = -(np.matmul(np.matmul(new_test_data[i]-mean4, inv4), np.transpose(new_test_data[i]-mean4))) / 2\n",
    "    p4 = np.exp(exp) / det4\n",
    "    exp = -(np.matmul(np.matmul(new_test_data[i]-mean5, inv5), np.transpose(new_test_data[i]-mean5))) / 2\n",
    "    p5 = np.exp(exp) / det5\n",
    "    exp = -(np.matmul(np.matmul(new_test_data[i]-mean6, inv6), np.transpose(new_test_data[i]-mean6))) / 2\n",
    "    p6 = np.exp(exp) / det6\n",
    "    exp = -(np.matmul(np.matmul(new_test_data[i]-mean7, inv7), np.transpose(new_test_data[i]-mean7))) / 2\n",
    "    p7 = np.exp(exp) / det7\n",
    "    exp = -(np.matmul(np.matmul(new_test_data[i]-mean8, inv8), np.transpose(new_test_data[i]-mean8))) / 2\n",
    "    p8 = np.exp(exp) / det8\n",
    "    exp = -(np.matmul(np.matmul(new_test_data[i]-mean9, inv9), np.transpose(new_test_data[i]-mean9))) / 2\n",
    "    p9 = np.exp(exp) / det9\n",
    "    p = [p0, p1, p2, p3, p4, p5, p6, p7, p8, p9]\n",
    "    max_p = max(p)\n",
    "    if (max_p == p0):\n",
    "        ans[i] = 0\n",
    "    elif (max_p == p1):\n",
    "        ans[i] = 1\n",
    "    elif (max_p == p2):\n",
    "        ans[i] = 2\n",
    "    elif (max_p == p3):\n",
    "        ans[i] = 3\n",
    "    elif (max_p == p4):\n",
    "        ans[i] = 4\n",
    "    elif (max_p == p5):\n",
    "        ans[i] = 5\n",
    "    elif (max_p == p6):\n",
    "        ans[i] = 6\n",
    "    elif (max_p == p7):\n",
    "        ans[i] = 7\n",
    "    elif (max_p == p8):\n",
    "        ans[i] = 8\n",
    "    elif (max_p == p9):\n",
    "        ans[i] = 9\n",
    "\n",
    "acc = 0\n",
    "for i in range(test_data.shape[0]):\n",
    "    if (ans[i] == test_labels[i]):\n",
    "        acc = acc + 1\n",
    "acc = (acc / float(test_data.shape[0])) * 100\n",
    "print (\"Accuracy of MLE =\", acc)\n",
    "    "
   ]
  },
  {
   "cell_type": "code",
   "execution_count": 43,
   "metadata": {},
   "outputs": [
    {
     "name": "stdout",
     "output_type": "stream",
     "text": [
      "Accuracy of MAP = 94.8\n"
     ]
    }
   ],
   "source": [
    "# Print accuracy on the test set using MAP\n",
    "# (assume a reasonable prior and mention it in the comments)\n",
    "\n",
    "# p(mu|x) = p(x|mu) * p(mu)\n",
    "# We have likelihood from the previous question. Since we have equal number of samples in each \n",
    "# of the 10 classes, we take prior probability p(mu) to be 1/10 for each mu\n",
    "# Therefore, p(mu|x) depends only on p(x|mu) so we will have the same results as above\n",
    "\n",
    "ans = np.empty(test_data.shape[0])\n",
    "\n",
    "for i in range(test_data.shape[0]):\n",
    "    exp = -(np.matmul(np.matmul(new_test_data[i]-mean0, inv0), np.transpose(new_test_data[i]-mean0))) / 2\n",
    "    p0 = np.exp(exp) / det0\n",
    "    exp = -(np.matmul(np.matmul(new_test_data[i]-mean1, inv1), np.transpose(new_test_data[i]-mean1))) / 2\n",
    "    p1 = np.exp(exp) / det1\n",
    "    exp = -(np.matmul(np.matmul(new_test_data[i]-mean2, inv2), np.transpose(new_test_data[i]-mean2))) / 2\n",
    "    p2 = np.exp(exp) / det2\n",
    "    exp = -(np.matmul(np.matmul(new_test_data[i]-mean3, inv3), np.transpose(new_test_data[i]-mean3))) / 2\n",
    "    p3 = np.exp(exp) / det3\n",
    "    exp = -(np.matmul(np.matmul(new_test_data[i]-mean4, inv4), np.transpose(new_test_data[i]-mean4))) / 2\n",
    "    p4 = np.exp(exp) / det4\n",
    "    exp = -(np.matmul(np.matmul(new_test_data[i]-mean5, inv5), np.transpose(new_test_data[i]-mean5))) / 2\n",
    "    p5 = np.exp(exp) / det5\n",
    "    exp = -(np.matmul(np.matmul(new_test_data[i]-mean6, inv6), np.transpose(new_test_data[i]-mean6))) / 2\n",
    "    p6 = np.exp(exp) / det6\n",
    "    exp = -(np.matmul(np.matmul(new_test_data[i]-mean7, inv7), np.transpose(new_test_data[i]-mean7))) / 2\n",
    "    p7 = np.exp(exp) / det7\n",
    "    exp = -(np.matmul(np.matmul(new_test_data[i]-mean8, inv8), np.transpose(new_test_data[i]-mean8))) / 2\n",
    "    p8 = np.exp(exp) / det8\n",
    "    exp = -(np.matmul(np.matmul(new_test_data[i]-mean9, inv9), np.transpose(new_test_data[i]-mean9))) / 2\n",
    "    p9 = np.exp(exp) / det9\n",
    "    p = [p0, p1, p2, p3, p4, p5, p6, p7, p8, p9]\n",
    "    max_p = max(p)\n",
    "    if (max_p == p0):\n",
    "        ans[i] = 0\n",
    "    elif (max_p == p1):\n",
    "        ans[i] = 1\n",
    "    elif (max_p == p2):\n",
    "        ans[i] = 2\n",
    "    elif (max_p == p3):\n",
    "        ans[i] = 3\n",
    "    elif (max_p == p4):\n",
    "        ans[i] = 4\n",
    "    elif (max_p == p5):\n",
    "        ans[i] = 5\n",
    "    elif (max_p == p6):\n",
    "        ans[i] = 6\n",
    "    elif (max_p == p7):\n",
    "        ans[i] = 7\n",
    "    elif (max_p == p8):\n",
    "        ans[i] = 8\n",
    "    elif (max_p == p9):\n",
    "        ans[i] = 9\n",
    "\n",
    "acc = 0\n",
    "for i in range(test_data.shape[0]):\n",
    "    if (ans[i] == test_labels[i]):\n",
    "        acc = acc + 1\n",
    "acc = (acc / float(test_data.shape[0])) * 100\n",
    "print (\"Accuracy of MAP =\", acc)\n",
    "    "
   ]
  },
  {
   "cell_type": "code",
   "execution_count": 47,
   "metadata": {},
   "outputs": [
    {
     "name": "stdout",
     "output_type": "stream",
     "text": [
      "Accuracy of Bayesian pairwise majority voting method = 88.4\n"
     ]
    }
   ],
   "source": [
    "# Print accuracy using Bayesian pairwise majority voting method\n",
    "ans = np.empty(test_data.shape[0])\n",
    "means = [mean0, mean1, mean2, mean3, mean4, mean5, mean6, mean7, mean8, mean9]\n",
    "covs = [cov0, cov1, cov2, cov3, cov4, cov5, cov6, cov7, cov8, cov9]\n",
    " \n",
    "for i in range(new_test_data.shape[0]):\n",
    "    votes = [0 for i in range(10)]\n",
    "    for c1 in range(9):\n",
    "        for c2 in range(c1+1, 10):\n",
    "            m1 = means[c1]\n",
    "            m2 = means[c2]\n",
    "            cov = np.add(covs[c1],covs[c2]) / 2\n",
    "            det = np.sqrt(LA.det(cov))\n",
    "            inv = LA.inv(cov)\n",
    "            exp = -(np.matmul(np.matmul(new_test_data[i]-m1, inv), np.transpose(new_test_data[i]-m1))) / 2\n",
    "            p1 = np.exp(exp) / det\n",
    "            exp = -(np.matmul(np.matmul(new_test_data[i]-m2, inv), np.transpose(new_test_data[i]-m2))) / 2\n",
    "            p2 = np.exp(exp) / det\n",
    "            if (p1 > p2):\n",
    "                votes[c1] = votes[c1] + 1\n",
    "            else:\n",
    "                votes[c2] = votes[c2] + 1\n",
    "    max_votes = 0\n",
    "    max_class = -1\n",
    "    for j in range(10):\n",
    "        if votes[j] > max_votes:\n",
    "            max_votes = votes[j]\n",
    "            max_class = j\n",
    "    \n",
    "    ans[i] = max_class\n",
    "\n",
    "acc = 0\n",
    "for i in range(test_data.shape[0]):\n",
    "    if (ans[i] == test_labels[i]):\n",
    "        acc = acc + 1\n",
    "acc = (acc / float(test_data.shape[0])) * 100\n",
    "print (\"Accuracy of Bayesian pairwise majority voting method =\", acc)"
   ]
  },
  {
   "cell_type": "code",
   "execution_count": 48,
   "metadata": {},
   "outputs": [
    {
     "ename": "AxisError",
     "evalue": "axis 1 is out of bounds for array of dimension 1",
     "output_type": "error",
     "traceback": [
      "\u001b[0;31m---------------------------------------------------------------------------\u001b[0m",
      "\u001b[0;31mAxisError\u001b[0m                                 Traceback (most recent call last)",
      "\u001b[0;32m<ipython-input-48-ef7e3e4e5d9e>\u001b[0m in \u001b[0;36m<module>\u001b[0;34m\u001b[0m\n\u001b[1;32m      9\u001b[0m             \u001b[0mm2\u001b[0m \u001b[0;34m=\u001b[0m \u001b[0mmeans\u001b[0m\u001b[0;34m[\u001b[0m\u001b[0mc2\u001b[0m\u001b[0;34m]\u001b[0m\u001b[0;34m\u001b[0m\u001b[0m\n\u001b[1;32m     10\u001b[0m             \u001b[0md1\u001b[0m \u001b[0;34m=\u001b[0m \u001b[0mnp\u001b[0m\u001b[0;34m.\u001b[0m\u001b[0msquare\u001b[0m\u001b[0;34m(\u001b[0m\u001b[0mm1\u001b[0m \u001b[0;34m-\u001b[0m \u001b[0mnew_test_data\u001b[0m\u001b[0;34m[\u001b[0m\u001b[0mi\u001b[0m\u001b[0;34m]\u001b[0m\u001b[0;34m)\u001b[0m\u001b[0;34m\u001b[0m\u001b[0m\n\u001b[0;32m---> 11\u001b[0;31m             \u001b[0md1\u001b[0m \u001b[0;34m=\u001b[0m \u001b[0mnp\u001b[0m\u001b[0;34m.\u001b[0m\u001b[0msum\u001b[0m\u001b[0;34m(\u001b[0m\u001b[0md1\u001b[0m\u001b[0;34m,\u001b[0m \u001b[0maxis\u001b[0m\u001b[0;34m=\u001b[0m\u001b[0;36m1\u001b[0m\u001b[0;34m)\u001b[0m\u001b[0;34m.\u001b[0m\u001b[0mtolist\u001b[0m\u001b[0;34m(\u001b[0m\u001b[0;34m)\u001b[0m\u001b[0;34m\u001b[0m\u001b[0m\n\u001b[0m\u001b[1;32m     12\u001b[0m             \u001b[0md2\u001b[0m \u001b[0;34m=\u001b[0m \u001b[0mnp\u001b[0m\u001b[0;34m.\u001b[0m\u001b[0msquare\u001b[0m\u001b[0;34m(\u001b[0m\u001b[0mm2\u001b[0m \u001b[0;34m-\u001b[0m \u001b[0mnew_test_data\u001b[0m\u001b[0;34m[\u001b[0m\u001b[0mi\u001b[0m\u001b[0;34m]\u001b[0m\u001b[0;34m)\u001b[0m\u001b[0;34m\u001b[0m\u001b[0m\n\u001b[1;32m     13\u001b[0m             \u001b[0md2\u001b[0m \u001b[0;34m=\u001b[0m \u001b[0mnp\u001b[0m\u001b[0;34m.\u001b[0m\u001b[0msum\u001b[0m\u001b[0;34m(\u001b[0m\u001b[0md2\u001b[0m\u001b[0;34m,\u001b[0m \u001b[0maxis\u001b[0m\u001b[0;34m=\u001b[0m\u001b[0;36m1\u001b[0m\u001b[0;34m)\u001b[0m\u001b[0;34m.\u001b[0m\u001b[0mtolist\u001b[0m\u001b[0;34m(\u001b[0m\u001b[0;34m)\u001b[0m\u001b[0;34m\u001b[0m\u001b[0m\n",
      "\u001b[0;32m~/.local/lib/python3.5/site-packages/numpy/core/fromnumeric.py\u001b[0m in \u001b[0;36msum\u001b[0;34m(a, axis, dtype, out, keepdims, initial)\u001b[0m\n\u001b[1;32m   2074\u001b[0m \u001b[0;34m\u001b[0m\u001b[0m\n\u001b[1;32m   2075\u001b[0m     return _wrapreduction(a, np.add, 'sum', axis, dtype, out, keepdims=keepdims,\n\u001b[0;32m-> 2076\u001b[0;31m                           initial=initial)\n\u001b[0m\u001b[1;32m   2077\u001b[0m \u001b[0;34m\u001b[0m\u001b[0m\n\u001b[1;32m   2078\u001b[0m \u001b[0;34m\u001b[0m\u001b[0m\n",
      "\u001b[0;32m~/.local/lib/python3.5/site-packages/numpy/core/fromnumeric.py\u001b[0m in \u001b[0;36m_wrapreduction\u001b[0;34m(obj, ufunc, method, axis, dtype, out, **kwargs)\u001b[0m\n\u001b[1;32m     84\u001b[0m                 \u001b[0;32mreturn\u001b[0m \u001b[0mreduction\u001b[0m\u001b[0;34m(\u001b[0m\u001b[0maxis\u001b[0m\u001b[0;34m=\u001b[0m\u001b[0maxis\u001b[0m\u001b[0;34m,\u001b[0m \u001b[0mout\u001b[0m\u001b[0;34m=\u001b[0m\u001b[0mout\u001b[0m\u001b[0;34m,\u001b[0m \u001b[0;34m**\u001b[0m\u001b[0mpasskwargs\u001b[0m\u001b[0;34m)\u001b[0m\u001b[0;34m\u001b[0m\u001b[0m\n\u001b[1;32m     85\u001b[0m \u001b[0;34m\u001b[0m\u001b[0m\n\u001b[0;32m---> 86\u001b[0;31m     \u001b[0;32mreturn\u001b[0m \u001b[0mufunc\u001b[0m\u001b[0;34m.\u001b[0m\u001b[0mreduce\u001b[0m\u001b[0;34m(\u001b[0m\u001b[0mobj\u001b[0m\u001b[0;34m,\u001b[0m \u001b[0maxis\u001b[0m\u001b[0;34m,\u001b[0m \u001b[0mdtype\u001b[0m\u001b[0;34m,\u001b[0m \u001b[0mout\u001b[0m\u001b[0;34m,\u001b[0m \u001b[0;34m**\u001b[0m\u001b[0mpasskwargs\u001b[0m\u001b[0;34m)\u001b[0m\u001b[0;34m\u001b[0m\u001b[0m\n\u001b[0m\u001b[1;32m     87\u001b[0m \u001b[0;34m\u001b[0m\u001b[0m\n\u001b[1;32m     88\u001b[0m \u001b[0;34m\u001b[0m\u001b[0m\n",
      "\u001b[0;31mAxisError\u001b[0m: axis 1 is out of bounds for array of dimension 1"
     ]
    }
   ],
   "source": [
    "# Print accuracy using Simple Perpendicular Bisector majority voting method\n",
    "ans = np.empty(new_test_data.shape[0])\n",
    "\n",
    "for i in range(new_test_data.shape[0]):\n",
    "    votes = [0 for i in range(10)]\n",
    "    for c1 in range(9):\n",
    "        for c2 in range(c1+1, 10):\n",
    "            m1 = means[c1]\n",
    "            m2 = means[c2]\n",
    "            d1 = np.square(m1 - new_test_data[i])\n",
    "            d1 = np.sum(d1)\n",
    "            d2 = np.square(m2 - new_test_data[i])\n",
    "            d2 = np.sum(d2)\n",
    "            if d1 < d2:\n",
    "                votes[c1] = votes[c1] + 1\n",
    "            else:\n",
    "                votes[c2] = votes[c2] + 1\n",
    "    \n",
    "    max_votes = 0\n",
    "    max_class = -1\n",
    "    for j in range(10):\n",
    "        if votes[j] > max_votes:\n",
    "            max_votes = votes[j]\n",
    "            max_class = j\n",
    "    \n",
    "    ans[i] = max_class\n",
    "\n",
    "acc = 0\n",
    "for i in range(test_data.shape[0]):\n",
    "    if (ans[i] == test_labels[i]):\n",
    "        acc = acc + 1\n",
    "acc = (acc / float(test_data.shape[0])) * 100\n",
    "print (\"Accuracy of Simple Perpendicular Bisector majority voting method =\", acc)"
   ]
  },
  {
   "cell_type": "markdown",
   "metadata": {
    "editable": false
   },
   "source": [
    "### 1.3.3 Question 4\n",
    "Compare performances and salient observations"
   ]
  },
  {
   "cell_type": "markdown",
   "metadata": {},
   "source": [
    "---\n",
    "Your analysis here (double click to edit)\n",
    "\n",
    "---"
   ]
  },
  {
   "cell_type": "markdown",
   "metadata": {
    "editable": false
   },
   "source": [
    "## 1.3.4 Nearest Neighbour based Tasks and Design\n",
    "---\n",
    "### 1.3.4 Question 1 : NN Classification with various K\n",
    "Implement a KNN classifier and print accuracies on the test set with K=1,3,7"
   ]
  },
  {
   "cell_type": "code",
   "execution_count": 7,
   "metadata": {
    "scrolled": true
   },
   "outputs": [
    {
     "name": "stdout",
     "output_type": "stream",
     "text": [
      "Accuracy for k = 1 is  90.7\n",
      "Accuracy for k = 3 is  91.60000000000001\n",
      "Accuracy for k = 7 is  91.60000000000001\n"
     ]
    }
   ],
   "source": [
    "# Your code here\n",
    "# Print accuracies with K = 1, 3, 7\n",
    "num_data = test_data.shape[0]\n",
    "k1_ans = np.empty(num_data)\n",
    "k3_ans = np.empty(num_data)\n",
    "k7_ans = np.empty(num_data)\n",
    "\n",
    "for i in range(0, num_data):\n",
    "    diff_test_data = np.square(train_data - test_data[i])\n",
    "    norm = np.sum(diff_test_data, axis=1).tolist()\n",
    "    norm = np.asarray(norm)\n",
    "    norm = np.sqrt(norm)\n",
    "    \n",
    "    idx = norm.argsort()[::1]   \n",
    "    norm = norm[idx]\n",
    "    sorted_labels = train_labels[idx]\n",
    "    \n",
    "    k1_ans[i] = sorted_labels[0]\n",
    "    \n",
    "    f3 = dict((d, 0) for d in range(0,10))\n",
    "    for j in range(0, 3):\n",
    "        f3[sorted_labels[j]] = f3[sorted_labels[j]] + 1\n",
    "    f3 = sorted(f3, key=f3.get, reverse=True)\n",
    "    k3_ans[i] = f3[0]\n",
    "    \n",
    "    f7 = dict((d, 0) for d in range(0,10))\n",
    "    for j in range(0, 7):\n",
    "        f7[sorted_labels[j]] = f7[sorted_labels[j]] + 1\n",
    "    f7= sorted(f7, key=f7.get, reverse=True)\n",
    "    k7_ans[i] = f7[0]\n",
    "    \n",
    "c1 = 0\n",
    "for i in range(0, num_data):\n",
    "    if k1_ans[i] == test_labels[i]:\n",
    "        c1 = c1 + 1\n",
    "acc1 = (c1 / float(num_data)) * 100\n",
    "print(\"Accuracy for k = 1 is \", acc1)\n",
    "\n",
    "c3 = 0\n",
    "for i in range(0, num_data):\n",
    "    if k3_ans[i] == test_labels[i]:\n",
    "        c3 = c3 + 1\n",
    "acc3 = (c3 / float(num_data)) * 100\n",
    "print(\"Accuracy for k = 3 is \", acc3)\n",
    "\n",
    "c7 = 0\n",
    "for i in range(0, num_data):\n",
    "    if k7_ans[i] == test_labels[i]:\n",
    "        c7 = c7 + 1\n",
    "acc7 = (c7 / float(num_data)) * 100\n",
    "print(\"Accuracy for k = 7 is \", acc7)"
   ]
  },
  {
   "cell_type": "markdown",
   "metadata": {
    "editable": false
   },
   "source": [
    "### 1.3.4 Question 1 continued\n",
    "- Why / why not are the accuracies the same?\n",
    "- How do we identify the best K? Suggest a computational procedure with a logical explanation."
   ]
  },
  {
   "cell_type": "markdown",
   "metadata": {},
   "source": [
    "---\n",
    "Your analysis here (double click to edit)\n",
    "\n",
    "---"
   ]
  },
  {
   "cell_type": "markdown",
   "metadata": {
    "editable": false
   },
   "source": [
    "### 1.3.4 Question 2 :  Reverse NN based outlier detection\n",
    "A sample can be thought of as an outlier is it is NOT in the nearest neighbour set of anybody else. Expand this idea into an algorithm."
   ]
  },
  {
   "cell_type": "code",
   "execution_count": 41,
   "metadata": {
    "editable": false
   },
   "outputs": [
    {
     "name": "stdout",
     "output_type": "stream",
     "text": [
      "(20, 784)\n"
     ]
    }
   ],
   "source": [
    "# This cell reads mixed data containing both MNIST digits and English characters.\n",
    "# The labels for this mixed data are random and are hence ignored.\n",
    "mixed_data, _ = read_data(\"outliers.csv\")\n",
    "print(mixed_data.shape)"
   ]
  },
  {
   "cell_type": "code",
   "execution_count": 42,
   "metadata": {},
   "outputs": [
    {
     "name": "stdout",
     "output_type": "stream",
     "text": [
      "Point 0 is an outlier\n",
      "Point 2 is not an outlier\n",
      "Point 2 is an outlier\n",
      "Point 4 is not an outlier\n",
      "Point 4 is an outlier\n",
      "Point 6 is not an outlier\n",
      "Point 6 is an outlier\n",
      "Point 7 is an outlier\n",
      "Point 9 is not an outlier\n",
      "Point 9 is an outlier\n",
      "Point 11 is not an outlier\n",
      "Point 11 is an outlier\n",
      "Point 13 is not an outlier\n",
      "Point 14 is not an outlier\n",
      "Point 15 is not an outlier\n",
      "Point 16 is not an outlier\n",
      "Point 17 is not an outlier\n",
      "Point 18 is not an outlier\n",
      "Point 18 is an outlier\n",
      "Point 20 is not an outlier\n"
     ]
    }
   ],
   "source": [
    "num_train_data = train_data.shape[0]\n",
    "num_mixed_data = mixed_data.shape[0]\n",
    "knn_max = np.empty(num_train_data)\n",
    "k = 3\n",
    "\n",
    "for i in range(num_train_data):\n",
    "    diff_train_data = np.square(train_data - train_data[i])\n",
    "    norm = np.sum(diff_train_data, axis=1).tolist()\n",
    "    norm = np.asarray(norm)\n",
    "    norm = np.sqrt(norm)\n",
    "    idx = norm.argsort()[::1]   \n",
    "    norm = norm[idx]\n",
    "    knn_max[i] = norm[k]\n",
    "        \n",
    "for i in range(num_mixed_data):\n",
    "    diff_mixed_data = np.square(train_data - mixed_data[i])\n",
    "    norm = np.sum(diff_mixed_data, axis=1).tolist()\n",
    "    norm = np.asarray(norm)\n",
    "    norm = np.sqrt(norm)\n",
    "    \n",
    "    flag = 1\n",
    "    for j in range(num_train_data):\n",
    "        if norm[j] <= knn_max[j]:\n",
    "            print(\"Point\", i+1, \"is not an outlier\")\n",
    "            flag = 1\n",
    "            break\n",
    "        else:\n",
    "            flag = 0\n",
    "    if flag == 0:\n",
    "        print(\"Point\", i, \"is an outlier\")"
   ]
  },
  {
   "cell_type": "markdown",
   "metadata": {
    "editable": false
   },
   "source": [
    "### 1.3.4 Question 3 : NN for regression\n",
    "Assume that each classID in the train set corresponds to a neatness score as:\n",
    "$$ neatness = \\frac{classID}{10} $$\n",
    "\n",
    "---\n",
    "Assume we had to predict the neatness score for each test sample using NN based techiniques on the train set. Describe the algorithm."
   ]
  },
  {
   "cell_type": "markdown",
   "metadata": {},
   "source": [
    "---\n",
    "Your algorithm here (double click to edit)\n",
    "1. Assign a neatness score to all the train and test labels according to the given formula. Assign a range to each class.\n",
    "2. For every test point, compute ditance from all points and sort.\n",
    "3. Select the k nearest neighbours.\n",
    "4. Divide the label value of each of the k nearest neighbours by their corresponding distances to have a weighted distribution.\n",
    "5. Sum the values to find the label of the test sample.\n",
    "\n",
    "---"
   ]
  },
  {
   "cell_type": "markdown",
   "metadata": {
    "editable": false
   },
   "source": [
    "### 1.3.4 Question 3 continued\n",
    "Validate your algorithm on the test set. This code should print mean absolute error on the test set, using the train set for NN based regression."
   ]
  },
  {
   "cell_type": "code",
   "execution_count": 23,
   "metadata": {},
   "outputs": [
    {
     "name": "stdout",
     "output_type": "stream",
     "text": [
      "Mean absolute error =  0.05636793566710551\n"
     ]
    }
   ],
   "source": [
    "# Your code here\n",
    "new_train_labels = train_labels / float(10)\n",
    "new_test_labels = test_labels / float(10)\n",
    "num_data = test_data.shape[0]\n",
    "k_ans = np.empty(num_data)\n",
    "\n",
    "for i in range(0, num_data):\n",
    "    diff_test_data = np.square(train_data - test_data[i])\n",
    "    norm = np.sum(diff_test_data, axis=1).tolist()\n",
    "    norm = np.asarray(norm)\n",
    "    norm = np.sqrt(norm)\n",
    "    \n",
    "    idx = norm.argsort()[::1]   \n",
    "    norm = norm[idx]\n",
    "    sorted_labels = new_train_labels[idx]\n",
    "    \n",
    "    k = 3\n",
    "    neatness = 0\n",
    "    for j in range(0, k):\n",
    "        norm[j] = norm[j] / float(norm[k-1])\n",
    "        neatness = neatness + (sorted_labels[j] / float(norm[j]))\n",
    "    neatness = neatness / float(k)\n",
    "    k_ans[i] = neatness\n",
    "    \n",
    "err = 0\n",
    "for i in range(0, num_data):\n",
    "    err = err + abs(k_ans[i] - new_test_labels[i])\n",
    "err = err / float(num_data)\n",
    "print(\"Mean absolute error = \", err)"
   ]
  },
  {
   "cell_type": "markdown",
   "metadata": {
    "editable": false
   },
   "source": [
    "---\n",
    "# FOLLOW THE SUBMISSION INSTRUCTIONS\n",
    "---"
   ]
  }
 ],
 "metadata": {
  "kernelspec": {
   "display_name": "Python 3",
   "language": "python",
   "name": "python3"
  },
  "language_info": {
   "codemirror_mode": {
    "name": "ipython",
    "version": 3
   },
   "file_extension": ".py",
   "mimetype": "text/x-python",
   "name": "python",
   "nbconvert_exporter": "python",
   "pygments_lexer": "ipython3",
   "version": "3.5.2"
  }
 },
 "nbformat": 4,
 "nbformat_minor": 2
}
